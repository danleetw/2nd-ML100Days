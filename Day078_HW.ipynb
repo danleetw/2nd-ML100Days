{
  "nbformat": 4,
  "nbformat_minor": 0,
  "metadata": {
    "colab": {
      "name": "Day078_HW.ipynb",
      "version": "0.3.2",
      "provenance": []
    },
    "language_info": {
      "codemirror_mode": {
        "name": "ipython",
        "version": 3
      },
      "file_extension": ".py",
      "mimetype": "text/x-python",
      "name": "python",
      "nbconvert_exporter": "python",
      "pygments_lexer": "ipython3",
      "version": "3.6.5"
    },
    "kernelspec": {
      "name": "python3",
      "display_name": "Python 3"
    },
    "accelerator": "GPU"
  },
  "cells": [
    {
      "cell_type": "code",
      "metadata": {
        "id": "1_4RejHXCf2H",
        "colab_type": "code",
        "colab": {
          "base_uri": "https://localhost:8080/",
          "height": 297
        },
        "outputId": "d1342645-2182-45b4-83ca-e0250710d3cf"
      },
      "source": [
        "## \n",
        "\"\"\"\n",
        "Your code here (optional)\n",
        "確認硬體資源\n",
        "\"\"\"\n",
        "!nvidia-smi"
      ],
      "execution_count": 1,
      "outputs": [
        {
          "output_type": "stream",
          "text": [
            "Mon Jul 15 14:31:09 2019       \n",
            "+-----------------------------------------------------------------------------+\n",
            "| NVIDIA-SMI 418.67       Driver Version: 410.79       CUDA Version: 10.0     |\n",
            "|-------------------------------+----------------------+----------------------+\n",
            "| GPU  Name        Persistence-M| Bus-Id        Disp.A | Volatile Uncorr. ECC |\n",
            "| Fan  Temp  Perf  Pwr:Usage/Cap|         Memory-Usage | GPU-Util  Compute M. |\n",
            "|===============================+======================+======================|\n",
            "|   0  Tesla T4            Off  | 00000000:00:04.0 Off |                    0 |\n",
            "| N/A   74C    P0    34W /  70W |    421MiB / 15079MiB |      0%      Default |\n",
            "+-------------------------------+----------------------+----------------------+\n",
            "                                                                               \n",
            "+-----------------------------------------------------------------------------+\n",
            "| Processes:                                                       GPU Memory |\n",
            "|  GPU       PID   Type   Process name                             Usage      |\n",
            "|=============================================================================|\n",
            "+-----------------------------------------------------------------------------+\n"
          ],
          "name": "stdout"
        }
      ]
    },
    {
      "cell_type": "markdown",
      "metadata": {
        "id": "KlF3akFyCf2G",
        "colab_type": "text"
      },
      "source": [
        "## Work\n",
        "1. 請嘗試將 preproc_x 替換成以每筆資料的 min/max 進行標準化至 -1 ~ 1 間，再進行訓練\n",
        "2. 請嘗試將 mlp 疊更深 (e.g 5~10 層)，進行訓練後觀察 learning curve 的走勢\n",
        "3. (optional) 請改用 GPU 進行訓練 (如果你有 GPU 的話)，比較使用 CPU 與 GPU 的訓練速度"
      ]
    },
    {
      "cell_type": "code",
      "metadata": {
        "id": "GRHeeiSICf2O",
        "colab_type": "code",
        "colab": {
          "base_uri": "https://localhost:8080/",
          "height": 35
        },
        "outputId": "2a47d470-eb22-4f2d-f3bd-5646139305e1"
      },
      "source": [
        "import os\n",
        "import keras\n",
        "\n",
        "# 請嘗試設定 GPU：os.environ\n",
        "os.environ[\"CUDA_VISIBLE_DEVICES\"] = \"0\""
      ],
      "execution_count": 3,
      "outputs": [
        {
          "output_type": "stream",
          "text": [
            "Using TensorFlow backend.\n"
          ],
          "name": "stderr"
        }
      ]
    },
    {
      "cell_type": "code",
      "metadata": {
        "id": "pDuLkIK4Cf2V",
        "colab_type": "code",
        "colab": {}
      },
      "source": [
        "train, test = keras.datasets.cifar10.load_data()"
      ],
      "execution_count": 0,
      "outputs": []
    },
    {
      "cell_type": "code",
      "metadata": {
        "id": "XxEVR6l9Cf2a",
        "colab_type": "code",
        "colab": {}
      },
      "source": [
        "from sklearn import preprocessing\n",
        "#preprocessing.MinMaxScaler(feature_range=(0, 1), copy=True).fit_transform(x)\n",
        "\n",
        "\n",
        "## 資料前處理\n",
        "\"\"\"\n",
        "Your code here\n",
        "\"\"\"\n",
        "def preproc_x(x, flatten=True):\n",
        "    x = x / 255.\n",
        "    if flatten:\n",
        "        x = x.reshape((len(x), -1))\n",
        "    return x\n",
        "\n",
        "def preproc_y(y, num_classes=10):\n",
        "    if y.shape[-1] == 1:\n",
        "        y = keras.utils.to_categorical(y, num_classes)\n",
        "    return y    "
      ],
      "execution_count": 0,
      "outputs": []
    },
    {
      "cell_type": "code",
      "metadata": {
        "id": "bcc_iUmLCf2d",
        "colab_type": "code",
        "colab": {}
      },
      "source": [
        "x_train, y_train = train\n",
        "x_test, y_test = test\n",
        "\n",
        "# Preproc the inputs\n",
        "x_train = preproc_x(x_train)\n",
        "x_test = preproc_x(x_test)\n",
        "\n",
        "# Preprc the outputs\n",
        "y_train = preproc_y(y_train)\n",
        "y_test = preproc_y(y_test)"
      ],
      "execution_count": 0,
      "outputs": []
    },
    {
      "cell_type": "code",
      "metadata": {
        "id": "kCTxtNkECf2g",
        "colab_type": "code",
        "colab": {
          "base_uri": "https://localhost:8080/",
          "height": 437
        },
        "outputId": "cf1098d2-ecaf-4b20-b9f1-08afbf190c2b"
      },
      "source": [
        "\"\"\"Code Here\n",
        "建立你的神經網路\n",
        "\"\"\"\n",
        "\n",
        "def build_mlp(input_shape, output_units=10, num_neurons=[512, 256, 128]):\n",
        "    input_layer = keras.layers.Input(input_shape)\n",
        "    \n",
        "    for i, n_units in enumerate(num_neurons):\n",
        "        if i == 0:\n",
        "            x = keras.layers.Dense(units=n_units, activation=\"relu\", name=\"hidden_layer\"+str(i+1))(input_layer)\n",
        "        else:\n",
        "            x = keras.layers.Dense(units=n_units, activation=\"relu\", name=\"hidden_layer\"+str(i+1))(x)\n",
        "    \n",
        "    out = keras.layers.Dense(units=output_units, activation=\"softmax\", name=\"output\")(x)\n",
        "    \n",
        "    model = keras.models.Model(inputs=[input_layer], outputs=[out])\n",
        "    return model\n",
        "  \n",
        "\n",
        "model = build_mlp(input_shape=x_train.shape[1:])\n",
        "model.summary()"
      ],
      "execution_count": 11,
      "outputs": [
        {
          "output_type": "stream",
          "text": [
            "WARNING: Logging before flag parsing goes to stderr.\n",
            "W0715 14:53:33.629221 140277217810304 deprecation_wrapper.py:119] From /usr/local/lib/python3.6/dist-packages/keras/backend/tensorflow_backend.py:74: The name tf.get_default_graph is deprecated. Please use tf.compat.v1.get_default_graph instead.\n",
            "\n",
            "W0715 14:53:33.649914 140277217810304 deprecation_wrapper.py:119] From /usr/local/lib/python3.6/dist-packages/keras/backend/tensorflow_backend.py:517: The name tf.placeholder is deprecated. Please use tf.compat.v1.placeholder instead.\n",
            "\n",
            "W0715 14:53:33.653505 140277217810304 deprecation_wrapper.py:119] From /usr/local/lib/python3.6/dist-packages/keras/backend/tensorflow_backend.py:4138: The name tf.random_uniform is deprecated. Please use tf.random.uniform instead.\n",
            "\n"
          ],
          "name": "stderr"
        },
        {
          "output_type": "stream",
          "text": [
            "_________________________________________________________________\n",
            "Layer (type)                 Output Shape              Param #   \n",
            "=================================================================\n",
            "input_1 (InputLayer)         (None, 3072)              0         \n",
            "_________________________________________________________________\n",
            "hidden_layer1 (Dense)        (None, 512)               1573376   \n",
            "_________________________________________________________________\n",
            "hidden_layer2 (Dense)        (None, 256)               131328    \n",
            "_________________________________________________________________\n",
            "hidden_layer3 (Dense)        (None, 128)               32896     \n",
            "_________________________________________________________________\n",
            "output (Dense)               (None, 10)                1290      \n",
            "=================================================================\n",
            "Total params: 1,738,890\n",
            "Trainable params: 1,738,890\n",
            "Non-trainable params: 0\n",
            "_________________________________________________________________\n"
          ],
          "name": "stdout"
        }
      ]
    },
    {
      "cell_type": "code",
      "metadata": {
        "id": "6uSuVZIcCf2i",
        "colab_type": "code",
        "colab": {}
      },
      "source": [
        "## 超參數設定\n",
        "LEARNING_RATE = 0.001\n",
        "EPOCHS = 100\n",
        "BATCH_SIZE = 256"
      ],
      "execution_count": 0,
      "outputs": []
    },
    {
      "cell_type": "code",
      "metadata": {
        "id": "j8aGdHi2Cf2l",
        "colab_type": "code",
        "colab": {
          "base_uri": "https://localhost:8080/",
          "height": 87
        },
        "outputId": "a2c138ca-516f-4355-d0ad-f2a096db1049"
      },
      "source": [
        "optimizer = keras.optimizers.Adam(lr=LEARNING_RATE)\n",
        "model.compile(loss=\"categorical_crossentropy\", metrics=[\"accuracy\"], optimizer=optimizer)"
      ],
      "execution_count": 13,
      "outputs": [
        {
          "output_type": "stream",
          "text": [
            "W0715 14:53:39.212284 140277217810304 deprecation_wrapper.py:119] From /usr/local/lib/python3.6/dist-packages/keras/optimizers.py:790: The name tf.train.Optimizer is deprecated. Please use tf.compat.v1.train.Optimizer instead.\n",
            "\n",
            "W0715 14:53:39.221946 140277217810304 deprecation_wrapper.py:119] From /usr/local/lib/python3.6/dist-packages/keras/backend/tensorflow_backend.py:3295: The name tf.log is deprecated. Please use tf.math.log instead.\n",
            "\n"
          ],
          "name": "stderr"
        }
      ]
    },
    {
      "cell_type": "code",
      "metadata": {
        "id": "cQB4h5FuCf2q",
        "colab_type": "code",
        "colab": {
          "base_uri": "https://localhost:8080/",
          "height": 1000
        },
        "outputId": "ca067db4-1340-4a05-cd5c-73c7aa7c965a"
      },
      "source": [
        "model.fit(x_train, y_train, \n",
        "          epochs=EPOCHS, \n",
        "          batch_size=BATCH_SIZE, \n",
        "          validation_data=(x_test, y_test), \n",
        "          shuffle=True)"
      ],
      "execution_count": 14,
      "outputs": [
        {
          "output_type": "stream",
          "text": [
            "W0715 14:53:42.094168 140277217810304 deprecation.py:323] From /usr/local/lib/python3.6/dist-packages/tensorflow/python/ops/math_grad.py:1250: add_dispatch_support.<locals>.wrapper (from tensorflow.python.ops.array_ops) is deprecated and will be removed in a future version.\n",
            "Instructions for updating:\n",
            "Use tf.where in 2.0, which has the same broadcast rule as np.where\n",
            "W0715 14:53:42.149253 140277217810304 deprecation_wrapper.py:119] From /usr/local/lib/python3.6/dist-packages/keras/backend/tensorflow_backend.py:986: The name tf.assign_add is deprecated. Please use tf.compat.v1.assign_add instead.\n",
            "\n"
          ],
          "name": "stderr"
        },
        {
          "output_type": "stream",
          "text": [
            "Train on 50000 samples, validate on 10000 samples\n",
            "Epoch 1/100\n",
            "50000/50000 [==============================] - 3s 63us/step - loss: 1.9249 - acc: 0.3057 - val_loss: 1.7398 - val_acc: 0.3771\n",
            "Epoch 2/100\n",
            "50000/50000 [==============================] - 2s 37us/step - loss: 1.6996 - acc: 0.3900 - val_loss: 1.6231 - val_acc: 0.4208\n",
            "Epoch 3/100\n",
            "50000/50000 [==============================] - 2s 35us/step - loss: 1.6052 - acc: 0.4251 - val_loss: 1.6539 - val_acc: 0.4014\n",
            "Epoch 4/100\n",
            "50000/50000 [==============================] - 2s 35us/step - loss: 1.5578 - acc: 0.4422 - val_loss: 1.5703 - val_acc: 0.4404\n",
            "Epoch 5/100\n",
            "50000/50000 [==============================] - 2s 35us/step - loss: 1.5061 - acc: 0.4640 - val_loss: 1.4942 - val_acc: 0.4677\n",
            "Epoch 6/100\n",
            "50000/50000 [==============================] - 2s 36us/step - loss: 1.4626 - acc: 0.4776 - val_loss: 1.4880 - val_acc: 0.4709\n",
            "Epoch 7/100\n",
            "50000/50000 [==============================] - 2s 35us/step - loss: 1.4350 - acc: 0.4884 - val_loss: 1.4699 - val_acc: 0.4760\n",
            "Epoch 8/100\n",
            "50000/50000 [==============================] - 2s 35us/step - loss: 1.4033 - acc: 0.4989 - val_loss: 1.4352 - val_acc: 0.4934\n",
            "Epoch 9/100\n",
            "50000/50000 [==============================] - 2s 35us/step - loss: 1.3833 - acc: 0.5106 - val_loss: 1.4248 - val_acc: 0.4938\n",
            "Epoch 10/100\n",
            "50000/50000 [==============================] - 2s 35us/step - loss: 1.3513 - acc: 0.5190 - val_loss: 1.4692 - val_acc: 0.4772\n",
            "Epoch 11/100\n",
            "50000/50000 [==============================] - 2s 35us/step - loss: 1.3321 - acc: 0.5246 - val_loss: 1.4136 - val_acc: 0.5014\n",
            "Epoch 12/100\n",
            "50000/50000 [==============================] - 2s 36us/step - loss: 1.3157 - acc: 0.5298 - val_loss: 1.4283 - val_acc: 0.4982\n",
            "Epoch 13/100\n",
            "50000/50000 [==============================] - 2s 36us/step - loss: 1.2892 - acc: 0.5433 - val_loss: 1.4076 - val_acc: 0.5075\n",
            "Epoch 14/100\n",
            "50000/50000 [==============================] - 2s 35us/step - loss: 1.2641 - acc: 0.5523 - val_loss: 1.3752 - val_acc: 0.5102\n",
            "Epoch 15/100\n",
            "50000/50000 [==============================] - 2s 35us/step - loss: 1.2334 - acc: 0.5603 - val_loss: 1.3994 - val_acc: 0.5112\n",
            "Epoch 16/100\n",
            "50000/50000 [==============================] - 2s 36us/step - loss: 1.2130 - acc: 0.5669 - val_loss: 1.3777 - val_acc: 0.5111\n",
            "Epoch 17/100\n",
            "50000/50000 [==============================] - 2s 36us/step - loss: 1.1876 - acc: 0.5784 - val_loss: 1.3500 - val_acc: 0.5234\n",
            "Epoch 18/100\n",
            "50000/50000 [==============================] - 2s 36us/step - loss: 1.1777 - acc: 0.5805 - val_loss: 1.3815 - val_acc: 0.5134\n",
            "Epoch 19/100\n",
            "50000/50000 [==============================] - 2s 35us/step - loss: 1.1443 - acc: 0.5940 - val_loss: 1.4401 - val_acc: 0.4954\n",
            "Epoch 20/100\n",
            "50000/50000 [==============================] - 2s 35us/step - loss: 1.1282 - acc: 0.5972 - val_loss: 1.3891 - val_acc: 0.5190\n",
            "Epoch 21/100\n",
            "50000/50000 [==============================] - 2s 36us/step - loss: 1.1108 - acc: 0.6065 - val_loss: 1.4029 - val_acc: 0.5117\n",
            "Epoch 22/100\n",
            "50000/50000 [==============================] - 2s 35us/step - loss: 1.0883 - acc: 0.6134 - val_loss: 1.3855 - val_acc: 0.5135\n",
            "Epoch 23/100\n",
            "50000/50000 [==============================] - 2s 35us/step - loss: 1.0689 - acc: 0.6186 - val_loss: 1.3694 - val_acc: 0.5208\n",
            "Epoch 24/100\n",
            "50000/50000 [==============================] - 2s 36us/step - loss: 1.0488 - acc: 0.6272 - val_loss: 1.3779 - val_acc: 0.5265\n",
            "Epoch 25/100\n",
            "50000/50000 [==============================] - 2s 36us/step - loss: 1.0318 - acc: 0.6337 - val_loss: 1.4000 - val_acc: 0.5179\n",
            "Epoch 26/100\n",
            "50000/50000 [==============================] - 2s 36us/step - loss: 1.0057 - acc: 0.6424 - val_loss: 1.3930 - val_acc: 0.5239\n",
            "Epoch 27/100\n",
            "50000/50000 [==============================] - 2s 35us/step - loss: 1.0054 - acc: 0.6404 - val_loss: 1.3996 - val_acc: 0.5265\n",
            "Epoch 28/100\n",
            "50000/50000 [==============================] - 2s 35us/step - loss: 0.9878 - acc: 0.6499 - val_loss: 1.4522 - val_acc: 0.5223\n",
            "Epoch 29/100\n",
            "50000/50000 [==============================] - 2s 35us/step - loss: 0.9704 - acc: 0.6546 - val_loss: 1.4074 - val_acc: 0.5277\n",
            "Epoch 30/100\n",
            "50000/50000 [==============================] - 2s 36us/step - loss: 0.9311 - acc: 0.6670 - val_loss: 1.4394 - val_acc: 0.5248\n",
            "Epoch 31/100\n",
            "50000/50000 [==============================] - 2s 36us/step - loss: 0.9215 - acc: 0.6725 - val_loss: 1.4809 - val_acc: 0.5172\n",
            "Epoch 32/100\n",
            "50000/50000 [==============================] - 2s 36us/step - loss: 0.9080 - acc: 0.6753 - val_loss: 1.4401 - val_acc: 0.5214\n",
            "Epoch 33/100\n",
            "50000/50000 [==============================] - 2s 36us/step - loss: 0.8891 - acc: 0.6825 - val_loss: 1.5170 - val_acc: 0.5129\n",
            "Epoch 34/100\n",
            "50000/50000 [==============================] - 2s 36us/step - loss: 0.8722 - acc: 0.6897 - val_loss: 1.5403 - val_acc: 0.5092\n",
            "Epoch 35/100\n",
            "50000/50000 [==============================] - 2s 35us/step - loss: 0.8590 - acc: 0.6920 - val_loss: 1.5551 - val_acc: 0.5138\n",
            "Epoch 36/100\n",
            "50000/50000 [==============================] - 2s 35us/step - loss: 0.8383 - acc: 0.7037 - val_loss: 1.5648 - val_acc: 0.5172\n",
            "Epoch 37/100\n",
            "50000/50000 [==============================] - 2s 35us/step - loss: 0.8156 - acc: 0.7082 - val_loss: 1.5426 - val_acc: 0.5177\n",
            "Epoch 38/100\n",
            "50000/50000 [==============================] - 2s 35us/step - loss: 0.8095 - acc: 0.7095 - val_loss: 1.5862 - val_acc: 0.5165\n",
            "Epoch 39/100\n",
            "50000/50000 [==============================] - 2s 35us/step - loss: 0.7984 - acc: 0.7136 - val_loss: 1.5914 - val_acc: 0.5114\n",
            "Epoch 40/100\n",
            "50000/50000 [==============================] - 2s 36us/step - loss: 0.7772 - acc: 0.7219 - val_loss: 1.5995 - val_acc: 0.5206\n",
            "Epoch 41/100\n",
            "50000/50000 [==============================] - 2s 36us/step - loss: 0.7574 - acc: 0.7310 - val_loss: 1.6120 - val_acc: 0.5182\n",
            "Epoch 42/100\n",
            "50000/50000 [==============================] - 2s 36us/step - loss: 0.7460 - acc: 0.7344 - val_loss: 1.6324 - val_acc: 0.5170\n",
            "Epoch 43/100\n",
            "50000/50000 [==============================] - 2s 36us/step - loss: 0.7446 - acc: 0.7321 - val_loss: 1.6466 - val_acc: 0.5167\n",
            "Epoch 44/100\n",
            "50000/50000 [==============================] - 2s 36us/step - loss: 0.7192 - acc: 0.7426 - val_loss: 1.7030 - val_acc: 0.5165\n",
            "Epoch 45/100\n",
            "50000/50000 [==============================] - 2s 35us/step - loss: 0.7192 - acc: 0.7411 - val_loss: 1.7312 - val_acc: 0.5096\n",
            "Epoch 46/100\n",
            "50000/50000 [==============================] - 2s 35us/step - loss: 0.6999 - acc: 0.7497 - val_loss: 1.7075 - val_acc: 0.5180\n",
            "Epoch 47/100\n",
            "50000/50000 [==============================] - 2s 36us/step - loss: 0.6812 - acc: 0.7557 - val_loss: 1.7312 - val_acc: 0.5188\n",
            "Epoch 48/100\n",
            "50000/50000 [==============================] - 2s 36us/step - loss: 0.6658 - acc: 0.7614 - val_loss: 1.7970 - val_acc: 0.5173\n",
            "Epoch 49/100\n",
            "50000/50000 [==============================] - 2s 37us/step - loss: 0.6622 - acc: 0.7618 - val_loss: 1.7774 - val_acc: 0.5205\n",
            "Epoch 50/100\n",
            "50000/50000 [==============================] - 2s 38us/step - loss: 0.6265 - acc: 0.7760 - val_loss: 1.8309 - val_acc: 0.5153\n",
            "Epoch 51/100\n",
            "50000/50000 [==============================] - 2s 38us/step - loss: 0.6268 - acc: 0.7758 - val_loss: 1.8833 - val_acc: 0.5075\n",
            "Epoch 52/100\n",
            "50000/50000 [==============================] - 2s 38us/step - loss: 0.6123 - acc: 0.7819 - val_loss: 1.8920 - val_acc: 0.5005\n",
            "Epoch 53/100\n",
            "50000/50000 [==============================] - 2s 38us/step - loss: 0.6181 - acc: 0.7771 - val_loss: 1.9128 - val_acc: 0.5056\n",
            "Epoch 54/100\n",
            "50000/50000 [==============================] - 2s 38us/step - loss: 0.5972 - acc: 0.7851 - val_loss: 1.9411 - val_acc: 0.5123\n",
            "Epoch 55/100\n",
            "50000/50000 [==============================] - 2s 38us/step - loss: 0.5791 - acc: 0.7920 - val_loss: 1.9494 - val_acc: 0.5151\n",
            "Epoch 56/100\n",
            "50000/50000 [==============================] - 2s 38us/step - loss: 0.5809 - acc: 0.7939 - val_loss: 1.9820 - val_acc: 0.5072\n",
            "Epoch 57/100\n",
            "50000/50000 [==============================] - 2s 38us/step - loss: 0.5657 - acc: 0.7965 - val_loss: 2.0524 - val_acc: 0.5032\n",
            "Epoch 58/100\n",
            "50000/50000 [==============================] - 2s 38us/step - loss: 0.5620 - acc: 0.8002 - val_loss: 2.0103 - val_acc: 0.5071\n",
            "Epoch 59/100\n",
            "50000/50000 [==============================] - 2s 37us/step - loss: 0.5367 - acc: 0.8066 - val_loss: 2.0329 - val_acc: 0.5073\n",
            "Epoch 60/100\n",
            "50000/50000 [==============================] - 2s 38us/step - loss: 0.5223 - acc: 0.8144 - val_loss: 2.0500 - val_acc: 0.5117\n",
            "Epoch 61/100\n",
            "50000/50000 [==============================] - 2s 38us/step - loss: 0.5174 - acc: 0.8138 - val_loss: 2.1711 - val_acc: 0.5073\n",
            "Epoch 62/100\n",
            "50000/50000 [==============================] - 2s 38us/step - loss: 0.5095 - acc: 0.8178 - val_loss: 2.1510 - val_acc: 0.5058\n",
            "Epoch 63/100\n",
            "50000/50000 [==============================] - 2s 38us/step - loss: 0.4985 - acc: 0.8204 - val_loss: 2.1340 - val_acc: 0.5033\n",
            "Epoch 64/100\n",
            "50000/50000 [==============================] - 2s 38us/step - loss: 0.4959 - acc: 0.8219 - val_loss: 2.1890 - val_acc: 0.5087\n",
            "Epoch 65/100\n",
            "50000/50000 [==============================] - 2s 38us/step - loss: 0.4859 - acc: 0.8264 - val_loss: 2.2096 - val_acc: 0.5014\n",
            "Epoch 66/100\n",
            "50000/50000 [==============================] - 2s 38us/step - loss: 0.4749 - acc: 0.8291 - val_loss: 2.3238 - val_acc: 0.5068\n",
            "Epoch 67/100\n",
            "50000/50000 [==============================] - 2s 38us/step - loss: 0.4670 - acc: 0.8324 - val_loss: 2.2519 - val_acc: 0.4992\n",
            "Epoch 68/100\n",
            "50000/50000 [==============================] - 2s 38us/step - loss: 0.4442 - acc: 0.8410 - val_loss: 2.3076 - val_acc: 0.5063\n",
            "Epoch 69/100\n",
            "50000/50000 [==============================] - 2s 38us/step - loss: 0.4494 - acc: 0.8392 - val_loss: 2.3653 - val_acc: 0.4984\n",
            "Epoch 70/100\n",
            "50000/50000 [==============================] - 2s 38us/step - loss: 0.4510 - acc: 0.8375 - val_loss: 2.3283 - val_acc: 0.5055\n",
            "Epoch 71/100\n",
            "50000/50000 [==============================] - 2s 38us/step - loss: 0.4299 - acc: 0.8490 - val_loss: 2.4501 - val_acc: 0.5034\n",
            "Epoch 72/100\n",
            "50000/50000 [==============================] - 2s 38us/step - loss: 0.4205 - acc: 0.8486 - val_loss: 2.4082 - val_acc: 0.4995\n",
            "Epoch 73/100\n",
            "50000/50000 [==============================] - 2s 39us/step - loss: 0.4275 - acc: 0.8487 - val_loss: 2.4423 - val_acc: 0.4937\n",
            "Epoch 74/100\n",
            "50000/50000 [==============================] - 2s 38us/step - loss: 0.4166 - acc: 0.8510 - val_loss: 2.5501 - val_acc: 0.4903\n",
            "Epoch 75/100\n",
            "50000/50000 [==============================] - 2s 38us/step - loss: 0.4184 - acc: 0.8504 - val_loss: 2.5464 - val_acc: 0.4958\n",
            "Epoch 76/100\n",
            "50000/50000 [==============================] - 2s 38us/step - loss: 0.4070 - acc: 0.8542 - val_loss: 2.4956 - val_acc: 0.4945\n",
            "Epoch 77/100\n",
            "50000/50000 [==============================] - 2s 38us/step - loss: 0.3973 - acc: 0.8568 - val_loss: 2.4895 - val_acc: 0.5010\n",
            "Epoch 78/100\n",
            "50000/50000 [==============================] - 2s 38us/step - loss: 0.3737 - acc: 0.8649 - val_loss: 2.5121 - val_acc: 0.4982\n",
            "Epoch 79/100\n",
            "50000/50000 [==============================] - 2s 38us/step - loss: 0.3809 - acc: 0.8634 - val_loss: 2.6792 - val_acc: 0.5024\n",
            "Epoch 80/100\n",
            "50000/50000 [==============================] - 2s 38us/step - loss: 0.3789 - acc: 0.8633 - val_loss: 2.6889 - val_acc: 0.5014\n",
            "Epoch 81/100\n",
            "50000/50000 [==============================] - 2s 38us/step - loss: 0.3721 - acc: 0.8657 - val_loss: 2.6736 - val_acc: 0.4942\n",
            "Epoch 82/100\n",
            "50000/50000 [==============================] - 2s 38us/step - loss: 0.3615 - acc: 0.8705 - val_loss: 2.6799 - val_acc: 0.4972\n",
            "Epoch 83/100\n",
            "50000/50000 [==============================] - 2s 39us/step - loss: 0.3387 - acc: 0.8793 - val_loss: 2.7398 - val_acc: 0.4989\n",
            "Epoch 84/100\n",
            "50000/50000 [==============================] - 2s 39us/step - loss: 0.3717 - acc: 0.8668 - val_loss: 2.7408 - val_acc: 0.4966\n",
            "Epoch 85/100\n",
            "50000/50000 [==============================] - 2s 39us/step - loss: 0.3597 - acc: 0.8700 - val_loss: 2.7568 - val_acc: 0.4965\n",
            "Epoch 86/100\n",
            "50000/50000 [==============================] - 2s 38us/step - loss: 0.3443 - acc: 0.8769 - val_loss: 2.8518 - val_acc: 0.4886\n",
            "Epoch 87/100\n",
            "50000/50000 [==============================] - 2s 38us/step - loss: 0.3404 - acc: 0.8766 - val_loss: 2.8535 - val_acc: 0.4981\n",
            "Epoch 88/100\n",
            "50000/50000 [==============================] - 2s 38us/step - loss: 0.3322 - acc: 0.8817 - val_loss: 2.9486 - val_acc: 0.4929\n",
            "Epoch 89/100\n",
            "50000/50000 [==============================] - 2s 38us/step - loss: 0.3432 - acc: 0.8754 - val_loss: 2.8817 - val_acc: 0.4995\n",
            "Epoch 90/100\n",
            "50000/50000 [==============================] - 2s 38us/step - loss: 0.3200 - acc: 0.8841 - val_loss: 2.8345 - val_acc: 0.4995\n",
            "Epoch 91/100\n",
            "50000/50000 [==============================] - 2s 38us/step - loss: 0.3135 - acc: 0.8852 - val_loss: 2.9624 - val_acc: 0.4936\n",
            "Epoch 92/100\n",
            "50000/50000 [==============================] - 2s 38us/step - loss: 0.3011 - acc: 0.8914 - val_loss: 3.0314 - val_acc: 0.4896\n",
            "Epoch 93/100\n",
            "50000/50000 [==============================] - 2s 38us/step - loss: 0.3115 - acc: 0.8893 - val_loss: 3.0152 - val_acc: 0.4928\n",
            "Epoch 94/100\n",
            "50000/50000 [==============================] - 2s 38us/step - loss: 0.3254 - acc: 0.8824 - val_loss: 2.9543 - val_acc: 0.4883\n",
            "Epoch 95/100\n",
            "50000/50000 [==============================] - 2s 38us/step - loss: 0.2890 - acc: 0.8957 - val_loss: 3.0337 - val_acc: 0.4926\n",
            "Epoch 96/100\n",
            "50000/50000 [==============================] - 2s 38us/step - loss: 0.3197 - acc: 0.8842 - val_loss: 3.0554 - val_acc: 0.4959\n",
            "Epoch 97/100\n",
            "50000/50000 [==============================] - 2s 38us/step - loss: 0.3080 - acc: 0.8874 - val_loss: 3.1334 - val_acc: 0.4907\n",
            "Epoch 98/100\n",
            "50000/50000 [==============================] - 2s 38us/step - loss: 0.2827 - acc: 0.8972 - val_loss: 3.1442 - val_acc: 0.4901\n",
            "Epoch 99/100\n",
            "50000/50000 [==============================] - 2s 38us/step - loss: 0.2967 - acc: 0.8928 - val_loss: 3.1405 - val_acc: 0.4933\n",
            "Epoch 100/100\n",
            "50000/50000 [==============================] - 2s 38us/step - loss: 0.2782 - acc: 0.8992 - val_loss: 3.2020 - val_acc: 0.4948\n"
          ],
          "name": "stdout"
        },
        {
          "output_type": "execute_result",
          "data": {
            "text/plain": [
              "<keras.callbacks.History at 0x7f94831d1c18>"
            ]
          },
          "metadata": {
            "tags": []
          },
          "execution_count": 14
        }
      ]
    },
    {
      "cell_type": "code",
      "metadata": {
        "id": "H6O_WwacCf2u",
        "colab_type": "code",
        "colab": {
          "base_uri": "https://localhost:8080/",
          "height": 545
        },
        "outputId": "7e8d2770-8c76-4828-fe04-ac1fa9fffee6"
      },
      "source": [
        "import matplotlib.pyplot as plt\n",
        "\n",
        "\n",
        "train_loss = model.history.history[\"loss\"]\n",
        "valid_loss = model.history.history[\"val_loss\"]\n",
        "\n",
        "train_acc = model.history.history[\"acc\"]\n",
        "valid_acc = model.history.history[\"val_acc\"]\n",
        "\n",
        "plt.plot(range(len(train_loss)), train_loss, label=\"train loss\")\n",
        "plt.plot(range(len(valid_loss)), valid_loss, label=\"valid loss\")\n",
        "plt.legend()\n",
        "plt.title(\"Loss\")\n",
        "plt.show()\n",
        "\n",
        "plt.plot(range(len(train_acc)), train_acc, label=\"train accuracy\")\n",
        "plt.plot(range(len(valid_acc)), valid_acc, label=\"valid accuracy\")\n",
        "plt.legend()\n",
        "plt.title(\"Accuracy\")\n",
        "plt.show()"
      ],
      "execution_count": 15,
      "outputs": [
        {
          "output_type": "display_data",
          "data": {
            "image/png": "[encoded data removed]",
            "text/plain": [
              "<Figure size 432x288 with 1 Axes>"
            ]
          },
          "metadata": {
            "tags": []
          }
        },
        {
          "output_type": "display_data",
          "data": {
            "image/png": "[encoded data removed]",
            "text/plain": [
              "<Figure size 432x288 with 1 Axes>"
            ]
          },
          "metadata": {
            "tags": []
          }
        }
      ]
    },
    {
      "cell_type": "code",
      "metadata": {
        "id": "cNU5uL3kIj0e",
        "colab_type": "code",
        "colab": {
          "base_uri": "https://localhost:8080/",
          "height": 420
        },
        "outputId": "72b1603f-3709-4592-9eae-7c127c79b0c7"
      },
      "source": [
        "\"\"\"Code Here\n",
        "建立你的神經網路\n",
        "\"\"\"\n",
        "\n",
        "def build_mlp1(input_shape, output_units=10, num_neurons=[512, 486,384,312,256, 128]):\n",
        "    input_layer = keras.layers.Input(input_shape)\n",
        "    \n",
        "    for i, n_units in enumerate(num_neurons):\n",
        "        if i == 0:\n",
        "            x = keras.layers.Dense(units=n_units, activation=\"relu\", name=\"hidden_layer\"+str(i+1))(input_layer)\n",
        "        else:\n",
        "            x = keras.layers.Dense(units=n_units, activation=\"relu\", name=\"hidden_layer\"+str(i+1))(x)\n",
        "    \n",
        "    out = keras.layers.Dense(units=output_units, activation=\"softmax\", name=\"output\")(x)\n",
        "    \n",
        "    model = keras.models.Model(inputs=[input_layer], outputs=[out])\n",
        "    return model\n",
        "  \n",
        "\n",
        "model1 = build_mlp1(input_shape=x_train.shape[1:])\n",
        "model1.summary()"
      ],
      "execution_count": 16,
      "outputs": [
        {
          "output_type": "stream",
          "text": [
            "_________________________________________________________________\n",
            "Layer (type)                 Output Shape              Param #   \n",
            "=================================================================\n",
            "input_2 (InputLayer)         (None, 3072)              0         \n",
            "_________________________________________________________________\n",
            "hidden_layer1 (Dense)        (None, 512)               1573376   \n",
            "_________________________________________________________________\n",
            "hidden_layer2 (Dense)        (None, 486)               249318    \n",
            "_________________________________________________________________\n",
            "hidden_layer3 (Dense)        (None, 384)               187008    \n",
            "_________________________________________________________________\n",
            "hidden_layer4 (Dense)        (None, 312)               120120    \n",
            "_________________________________________________________________\n",
            "hidden_layer5 (Dense)        (None, 256)               80128     \n",
            "_________________________________________________________________\n",
            "hidden_layer6 (Dense)        (None, 128)               32896     \n",
            "_________________________________________________________________\n",
            "output (Dense)               (None, 10)                1290      \n",
            "=================================================================\n",
            "Total params: 2,244,136\n",
            "Trainable params: 2,244,136\n",
            "Non-trainable params: 0\n",
            "_________________________________________________________________\n"
          ],
          "name": "stdout"
        }
      ]
    },
    {
      "cell_type": "code",
      "metadata": {
        "id": "GWEmOW-DI11-",
        "colab_type": "code",
        "colab": {}
      },
      "source": [
        "optimizer1 = keras.optimizers.Adam(lr=LEARNING_RATE)\n",
        "model1.compile(loss=\"categorical_crossentropy\", metrics=[\"accuracy\"], optimizer=optimizer1)"
      ],
      "execution_count": 0,
      "outputs": []
    },
    {
      "cell_type": "code",
      "metadata": {
        "id": "X4TQ2naBI4f-",
        "colab_type": "code",
        "colab": {
          "base_uri": "https://localhost:8080/",
          "height": 1000
        },
        "outputId": "02583fc5-996a-422c-da87-784603d80629"
      },
      "source": [
        "model1.fit(x_train, y_train, \n",
        "          epochs=EPOCHS, \n",
        "          batch_size=BATCH_SIZE, \n",
        "          validation_data=(x_test, y_test), \n",
        "          shuffle=True)"
      ],
      "execution_count": 18,
      "outputs": [
        {
          "output_type": "stream",
          "text": [
            "Train on 50000 samples, validate on 10000 samples\n",
            "Epoch 1/100\n",
            "50000/50000 [==============================] - 3s 54us/step - loss: 1.9201 - acc: 0.2957 - val_loss: 1.7461 - val_acc: 0.3699\n",
            "Epoch 2/100\n",
            "50000/50000 [==============================] - 2s 40us/step - loss: 1.7213 - acc: 0.3794 - val_loss: 1.6611 - val_acc: 0.4025\n",
            "Epoch 3/100\n",
            "50000/50000 [==============================] - 2s 40us/step - loss: 1.6203 - acc: 0.4170 - val_loss: 1.6092 - val_acc: 0.4269\n",
            "Epoch 4/100\n",
            "50000/50000 [==============================] - 2s 40us/step - loss: 1.5530 - acc: 0.4423 - val_loss: 1.5577 - val_acc: 0.4464\n",
            "Epoch 5/100\n",
            "50000/50000 [==============================] - 2s 39us/step - loss: 1.5095 - acc: 0.4586 - val_loss: 1.5193 - val_acc: 0.4603\n",
            "Epoch 6/100\n",
            "50000/50000 [==============================] - 2s 39us/step - loss: 1.4589 - acc: 0.4765 - val_loss: 1.5293 - val_acc: 0.4540\n",
            "Epoch 7/100\n",
            "50000/50000 [==============================] - 2s 39us/step - loss: 1.4269 - acc: 0.4858 - val_loss: 1.4785 - val_acc: 0.4638\n",
            "Epoch 8/100\n",
            "50000/50000 [==============================] - 2s 40us/step - loss: 1.3864 - acc: 0.5010 - val_loss: 1.4983 - val_acc: 0.4754\n",
            "Epoch 9/100\n",
            "50000/50000 [==============================] - 2s 40us/step - loss: 1.3621 - acc: 0.5137 - val_loss: 1.4532 - val_acc: 0.4787\n",
            "Epoch 10/100\n",
            "50000/50000 [==============================] - 2s 39us/step - loss: 1.3334 - acc: 0.5181 - val_loss: 1.4243 - val_acc: 0.4924\n",
            "Epoch 11/100\n",
            "50000/50000 [==============================] - 2s 39us/step - loss: 1.2901 - acc: 0.5373 - val_loss: 1.4163 - val_acc: 0.4952\n",
            "Epoch 12/100\n",
            "50000/50000 [==============================] - 2s 39us/step - loss: 1.2606 - acc: 0.5467 - val_loss: 1.3994 - val_acc: 0.5051\n",
            "Epoch 13/100\n",
            "50000/50000 [==============================] - 2s 39us/step - loss: 1.2294 - acc: 0.5572 - val_loss: 1.4357 - val_acc: 0.4896\n",
            "Epoch 14/100\n",
            "50000/50000 [==============================] - 2s 39us/step - loss: 1.2077 - acc: 0.5650 - val_loss: 1.4249 - val_acc: 0.5064\n",
            "Epoch 15/100\n",
            "50000/50000 [==============================] - 2s 39us/step - loss: 1.1731 - acc: 0.5794 - val_loss: 1.3651 - val_acc: 0.5210\n",
            "Epoch 16/100\n",
            "50000/50000 [==============================] - 2s 39us/step - loss: 1.1376 - acc: 0.5905 - val_loss: 1.3957 - val_acc: 0.5128\n",
            "Epoch 17/100\n",
            "50000/50000 [==============================] - 2s 39us/step - loss: 1.1011 - acc: 0.6010 - val_loss: 1.4230 - val_acc: 0.5075\n",
            "Epoch 18/100\n",
            "50000/50000 [==============================] - 2s 39us/step - loss: 1.0713 - acc: 0.6111 - val_loss: 1.4481 - val_acc: 0.5057\n",
            "Epoch 19/100\n",
            "50000/50000 [==============================] - 2s 40us/step - loss: 1.0374 - acc: 0.6253 - val_loss: 1.4232 - val_acc: 0.5220\n",
            "Epoch 20/100\n",
            "50000/50000 [==============================] - 2s 39us/step - loss: 0.9936 - acc: 0.6415 - val_loss: 1.4803 - val_acc: 0.5114\n",
            "Epoch 21/100\n",
            "50000/50000 [==============================] - 2s 40us/step - loss: 0.9628 - acc: 0.6505 - val_loss: 1.5256 - val_acc: 0.5118\n",
            "Epoch 22/100\n",
            "50000/50000 [==============================] - 2s 39us/step - loss: 0.9159 - acc: 0.6679 - val_loss: 1.5647 - val_acc: 0.5068\n",
            "Epoch 23/100\n",
            "50000/50000 [==============================] - 2s 39us/step - loss: 0.8869 - acc: 0.6778 - val_loss: 1.5470 - val_acc: 0.5154\n",
            "Epoch 24/100\n",
            "50000/50000 [==============================] - 2s 39us/step - loss: 0.8454 - acc: 0.6943 - val_loss: 1.6094 - val_acc: 0.5098\n",
            "Epoch 25/100\n",
            "50000/50000 [==============================] - 2s 39us/step - loss: 0.8018 - acc: 0.7094 - val_loss: 1.5637 - val_acc: 0.5149\n",
            "Epoch 26/100\n",
            "50000/50000 [==============================] - 2s 40us/step - loss: 0.7648 - acc: 0.7219 - val_loss: 1.6357 - val_acc: 0.5170\n",
            "Epoch 27/100\n",
            "50000/50000 [==============================] - 2s 39us/step - loss: 0.7386 - acc: 0.7312 - val_loss: 1.6918 - val_acc: 0.5097\n",
            "Epoch 28/100\n",
            "50000/50000 [==============================] - 2s 39us/step - loss: 0.6968 - acc: 0.7478 - val_loss: 1.8157 - val_acc: 0.5179\n",
            "Epoch 29/100\n",
            "50000/50000 [==============================] - 2s 39us/step - loss: 0.6629 - acc: 0.7594 - val_loss: 1.8494 - val_acc: 0.4939\n",
            "Epoch 30/100\n",
            "50000/50000 [==============================] - 2s 40us/step - loss: 0.6533 - acc: 0.7622 - val_loss: 1.8690 - val_acc: 0.4938\n",
            "Epoch 31/100\n",
            "50000/50000 [==============================] - 2s 40us/step - loss: 0.6143 - acc: 0.7760 - val_loss: 1.9275 - val_acc: 0.5010\n",
            "Epoch 32/100\n",
            "50000/50000 [==============================] - 2s 40us/step - loss: 0.5753 - acc: 0.7904 - val_loss: 1.9740 - val_acc: 0.5048\n",
            "Epoch 33/100\n",
            "50000/50000 [==============================] - 2s 39us/step - loss: 0.5655 - acc: 0.7957 - val_loss: 2.1277 - val_acc: 0.5061\n",
            "Epoch 34/100\n",
            "50000/50000 [==============================] - 2s 39us/step - loss: 0.5124 - acc: 0.8143 - val_loss: 2.1782 - val_acc: 0.5028\n",
            "Epoch 35/100\n",
            "50000/50000 [==============================] - 2s 40us/step - loss: 0.4856 - acc: 0.8237 - val_loss: 2.1817 - val_acc: 0.4993\n",
            "Epoch 36/100\n",
            "50000/50000 [==============================] - 2s 40us/step - loss: 0.4697 - acc: 0.8300 - val_loss: 2.2224 - val_acc: 0.4999\n",
            "Epoch 37/100\n",
            "50000/50000 [==============================] - 2s 41us/step - loss: 0.4502 - acc: 0.8365 - val_loss: 2.3624 - val_acc: 0.4823\n",
            "Epoch 38/100\n",
            "50000/50000 [==============================] - 2s 40us/step - loss: 0.4411 - acc: 0.8404 - val_loss: 2.3652 - val_acc: 0.4926\n",
            "Epoch 39/100\n",
            "50000/50000 [==============================] - 2s 40us/step - loss: 0.4221 - acc: 0.8480 - val_loss: 2.3927 - val_acc: 0.4961\n",
            "Epoch 40/100\n",
            "50000/50000 [==============================] - 2s 40us/step - loss: 0.3743 - acc: 0.8645 - val_loss: 2.5573 - val_acc: 0.5018\n",
            "Epoch 41/100\n",
            "50000/50000 [==============================] - 2s 40us/step - loss: 0.3860 - acc: 0.8594 - val_loss: 2.4901 - val_acc: 0.4973\n",
            "Epoch 42/100\n",
            "50000/50000 [==============================] - 2s 39us/step - loss: 0.3859 - acc: 0.8609 - val_loss: 2.5702 - val_acc: 0.4923\n",
            "Epoch 43/100\n",
            "50000/50000 [==============================] - 2s 39us/step - loss: 0.3619 - acc: 0.8710 - val_loss: 2.6295 - val_acc: 0.4899\n",
            "Epoch 44/100\n",
            "50000/50000 [==============================] - 2s 39us/step - loss: 0.3465 - acc: 0.8771 - val_loss: 2.6706 - val_acc: 0.4997\n",
            "Epoch 45/100\n",
            "50000/50000 [==============================] - 2s 39us/step - loss: 0.3208 - acc: 0.8837 - val_loss: 2.9179 - val_acc: 0.4818\n",
            "Epoch 46/100\n",
            "50000/50000 [==============================] - 2s 39us/step - loss: 0.3004 - acc: 0.8935 - val_loss: 2.9343 - val_acc: 0.4954\n",
            "Epoch 47/100\n",
            "50000/50000 [==============================] - 2s 40us/step - loss: 0.3063 - acc: 0.8901 - val_loss: 2.8497 - val_acc: 0.4908\n",
            "Epoch 48/100\n",
            "50000/50000 [==============================] - 2s 39us/step - loss: 0.2843 - acc: 0.8982 - val_loss: 2.9445 - val_acc: 0.4945\n",
            "Epoch 49/100\n",
            "50000/50000 [==============================] - 2s 40us/step - loss: 0.3112 - acc: 0.8907 - val_loss: 2.8907 - val_acc: 0.4985\n",
            "Epoch 50/100\n",
            "50000/50000 [==============================] - 2s 39us/step - loss: 0.2694 - acc: 0.9038 - val_loss: 3.0531 - val_acc: 0.4981\n",
            "Epoch 51/100\n",
            "50000/50000 [==============================] - 2s 39us/step - loss: 0.2506 - acc: 0.9106 - val_loss: 2.9987 - val_acc: 0.4992\n",
            "Epoch 52/100\n",
            "50000/50000 [==============================] - 2s 40us/step - loss: 0.2881 - acc: 0.8980 - val_loss: 3.0267 - val_acc: 0.4941\n",
            "Epoch 53/100\n",
            "50000/50000 [==============================] - 2s 39us/step - loss: 0.2476 - acc: 0.9125 - val_loss: 3.1501 - val_acc: 0.4890\n",
            "Epoch 54/100\n",
            "50000/50000 [==============================] - 2s 39us/step - loss: 0.2412 - acc: 0.9151 - val_loss: 3.1353 - val_acc: 0.4961\n",
            "Epoch 55/100\n",
            "50000/50000 [==============================] - 2s 39us/step - loss: 0.2456 - acc: 0.9133 - val_loss: 3.0778 - val_acc: 0.4910\n",
            "Epoch 56/100\n",
            "50000/50000 [==============================] - 2s 40us/step - loss: 0.2408 - acc: 0.9156 - val_loss: 3.1302 - val_acc: 0.4950\n",
            "Epoch 57/100\n",
            "50000/50000 [==============================] - 2s 40us/step - loss: 0.2236 - acc: 0.9213 - val_loss: 3.1759 - val_acc: 0.4963\n",
            "Epoch 58/100\n",
            "50000/50000 [==============================] - 2s 39us/step - loss: 0.2074 - acc: 0.9268 - val_loss: 3.3237 - val_acc: 0.4892\n",
            "Epoch 59/100\n",
            "50000/50000 [==============================] - 2s 39us/step - loss: 0.2451 - acc: 0.9147 - val_loss: 3.2233 - val_acc: 0.4981\n",
            "Epoch 60/100\n",
            "50000/50000 [==============================] - 2s 39us/step - loss: 0.2304 - acc: 0.9199 - val_loss: 3.1923 - val_acc: 0.4926\n",
            "Epoch 61/100\n",
            "50000/50000 [==============================] - 2s 39us/step - loss: 0.2162 - acc: 0.9246 - val_loss: 3.3074 - val_acc: 0.4934\n",
            "Epoch 62/100\n",
            "50000/50000 [==============================] - 2s 39us/step - loss: 0.1829 - acc: 0.9368 - val_loss: 3.4427 - val_acc: 0.4921\n",
            "Epoch 63/100\n",
            "50000/50000 [==============================] - 2s 40us/step - loss: 0.2182 - acc: 0.9247 - val_loss: 3.3771 - val_acc: 0.4868\n",
            "Epoch 64/100\n",
            "50000/50000 [==============================] - 2s 39us/step - loss: 0.2027 - acc: 0.9295 - val_loss: 3.3914 - val_acc: 0.4928\n",
            "Epoch 65/100\n",
            "50000/50000 [==============================] - 2s 39us/step - loss: 0.1836 - acc: 0.9355 - val_loss: 3.4533 - val_acc: 0.4831\n",
            "Epoch 66/100\n",
            "50000/50000 [==============================] - 2s 39us/step - loss: 0.2167 - acc: 0.9249 - val_loss: 3.4030 - val_acc: 0.4965\n",
            "Epoch 67/100\n",
            "50000/50000 [==============================] - 2s 40us/step - loss: 0.1844 - acc: 0.9352 - val_loss: 3.5274 - val_acc: 0.4974\n",
            "Epoch 68/100\n",
            "50000/50000 [==============================] - 2s 40us/step - loss: 0.1969 - acc: 0.9313 - val_loss: 3.3934 - val_acc: 0.4905\n",
            "Epoch 69/100\n",
            "50000/50000 [==============================] - 2s 40us/step - loss: 0.1715 - acc: 0.9400 - val_loss: 3.5634 - val_acc: 0.4933\n",
            "Epoch 70/100\n",
            "50000/50000 [==============================] - 2s 41us/step - loss: 0.1739 - acc: 0.9404 - val_loss: 3.5745 - val_acc: 0.4876\n",
            "Epoch 71/100\n",
            "50000/50000 [==============================] - 2s 41us/step - loss: 0.1831 - acc: 0.9368 - val_loss: 3.4766 - val_acc: 0.4877\n",
            "Epoch 72/100\n",
            "50000/50000 [==============================] - 2s 40us/step - loss: 0.1582 - acc: 0.9465 - val_loss: 3.7280 - val_acc: 0.4743\n",
            "Epoch 73/100\n",
            "50000/50000 [==============================] - 2s 39us/step - loss: 0.1745 - acc: 0.9406 - val_loss: 3.5668 - val_acc: 0.4911\n",
            "Epoch 74/100\n",
            "50000/50000 [==============================] - 2s 39us/step - loss: 0.1678 - acc: 0.9419 - val_loss: 3.4918 - val_acc: 0.4793\n",
            "Epoch 75/100\n",
            "50000/50000 [==============================] - 2s 40us/step - loss: 0.1630 - acc: 0.9440 - val_loss: 3.6906 - val_acc: 0.4858\n",
            "Epoch 76/100\n",
            "50000/50000 [==============================] - 2s 39us/step - loss: 0.1771 - acc: 0.9395 - val_loss: 3.6114 - val_acc: 0.4972\n",
            "Epoch 77/100\n",
            "50000/50000 [==============================] - 2s 40us/step - loss: 0.1532 - acc: 0.9483 - val_loss: 3.8151 - val_acc: 0.4866\n",
            "Epoch 78/100\n",
            "50000/50000 [==============================] - 2s 40us/step - loss: 0.1891 - acc: 0.9358 - val_loss: 3.7118 - val_acc: 0.4936\n",
            "Epoch 79/100\n",
            "50000/50000 [==============================] - 2s 40us/step - loss: 0.1255 - acc: 0.9560 - val_loss: 3.7876 - val_acc: 0.4958\n",
            "Epoch 80/100\n",
            "50000/50000 [==============================] - 2s 40us/step - loss: 0.1796 - acc: 0.9375 - val_loss: 3.6690 - val_acc: 0.4887\n",
            "Epoch 81/100\n",
            "50000/50000 [==============================] - 2s 40us/step - loss: 0.1729 - acc: 0.9419 - val_loss: 3.6480 - val_acc: 0.4952\n",
            "Epoch 82/100\n",
            "50000/50000 [==============================] - 2s 39us/step - loss: 0.1311 - acc: 0.9560 - val_loss: 3.7929 - val_acc: 0.4888\n",
            "Epoch 83/100\n",
            "50000/50000 [==============================] - 2s 39us/step - loss: 0.1474 - acc: 0.9511 - val_loss: 3.6077 - val_acc: 0.4841\n",
            "Epoch 84/100\n",
            "50000/50000 [==============================] - 2s 39us/step - loss: 0.1516 - acc: 0.9490 - val_loss: 3.7215 - val_acc: 0.4905\n",
            "Epoch 85/100\n",
            "50000/50000 [==============================] - 2s 39us/step - loss: 0.1301 - acc: 0.9572 - val_loss: 3.8745 - val_acc: 0.4855\n",
            "Epoch 86/100\n",
            "50000/50000 [==============================] - 2s 39us/step - loss: 0.1531 - acc: 0.9470 - val_loss: 3.7448 - val_acc: 0.4933\n",
            "Epoch 87/100\n",
            "50000/50000 [==============================] - 2s 39us/step - loss: 0.1345 - acc: 0.9553 - val_loss: 3.8777 - val_acc: 0.4898\n",
            "Epoch 88/100\n",
            "50000/50000 [==============================] - 2s 39us/step - loss: 0.1504 - acc: 0.9510 - val_loss: 3.7825 - val_acc: 0.4923\n",
            "Epoch 89/100\n",
            "50000/50000 [==============================] - 2s 39us/step - loss: 0.1447 - acc: 0.9508 - val_loss: 3.8348 - val_acc: 0.4877\n",
            "Epoch 90/100\n",
            "50000/50000 [==============================] - 2s 39us/step - loss: 0.1426 - acc: 0.9529 - val_loss: 3.8710 - val_acc: 0.4878\n",
            "Epoch 91/100\n",
            "50000/50000 [==============================] - 2s 39us/step - loss: 0.1778 - acc: 0.9391 - val_loss: 3.6988 - val_acc: 0.4873\n",
            "Epoch 92/100\n",
            "50000/50000 [==============================] - 2s 39us/step - loss: 0.1353 - acc: 0.9539 - val_loss: 3.8547 - val_acc: 0.4823\n",
            "Epoch 93/100\n",
            "50000/50000 [==============================] - 2s 39us/step - loss: 0.1274 - acc: 0.9572 - val_loss: 3.9014 - val_acc: 0.4902\n",
            "Epoch 94/100\n",
            "50000/50000 [==============================] - 2s 39us/step - loss: 0.1405 - acc: 0.9529 - val_loss: 3.6868 - val_acc: 0.4840\n",
            "Epoch 95/100\n",
            "50000/50000 [==============================] - 2s 39us/step - loss: 0.1558 - acc: 0.9469 - val_loss: 3.7485 - val_acc: 0.4920\n",
            "Epoch 96/100\n",
            "50000/50000 [==============================] - 2s 39us/step - loss: 0.0958 - acc: 0.9679 - val_loss: 4.0521 - val_acc: 0.4900\n",
            "Epoch 97/100\n",
            "50000/50000 [==============================] - 2s 39us/step - loss: 0.1593 - acc: 0.9460 - val_loss: 3.7323 - val_acc: 0.4896\n",
            "Epoch 98/100\n",
            "50000/50000 [==============================] - 2s 39us/step - loss: 0.1180 - acc: 0.9603 - val_loss: 3.9716 - val_acc: 0.4867\n",
            "Epoch 99/100\n",
            "50000/50000 [==============================] - 2s 40us/step - loss: 0.1409 - acc: 0.9532 - val_loss: 3.9233 - val_acc: 0.4900\n",
            "Epoch 100/100\n",
            "50000/50000 [==============================] - 2s 39us/step - loss: 0.1278 - acc: 0.9580 - val_loss: 3.8611 - val_acc: 0.4880\n"
          ],
          "name": "stdout"
        },
        {
          "output_type": "execute_result",
          "data": {
            "text/plain": [
              "<keras.callbacks.History at 0x7f947453a3c8>"
            ]
          },
          "metadata": {
            "tags": []
          },
          "execution_count": 18
        }
      ]
    },
    {
      "cell_type": "code",
      "metadata": {
        "id": "cfo7CO7MI_oa",
        "colab_type": "code",
        "colab": {
          "base_uri": "https://localhost:8080/",
          "height": 545
        },
        "outputId": "152588a0-da87-4730-80e3-f9eb31a0953d"
      },
      "source": [
        "import matplotlib.pyplot as plt\n",
        "\n",
        "\n",
        "train1_loss = model1.history.history[\"loss\"]\n",
        "valid1_loss = model1.history.history[\"val_loss\"]\n",
        "\n",
        "train1_acc = model1.history.history[\"acc\"]\n",
        "valid1_acc = model1.history.history[\"val_acc\"]\n",
        "\n",
        "plt.plot(range(len(train1_loss)), train1_loss, label=\"train loss\")\n",
        "plt.plot(range(len(valid1_loss)), valid1_loss, label=\"valid loss\")\n",
        "plt.legend()\n",
        "plt.title(\"Loss\")\n",
        "plt.show()\n",
        "\n",
        "plt.plot(range(len(train1_acc)), train1_acc, label=\"train accuracy\")\n",
        "plt.plot(range(len(valid1_acc)), valid1_acc, label=\"valid accuracy\")\n",
        "plt.legend()\n",
        "plt.title(\"Accuracy\")\n",
        "plt.show()"
      ],
      "execution_count": 19,
      "outputs": [
        {
          "output_type": "display_data",
          "data": {
            "image/png": "[encoded data removed]",
            "text/plain": [
              "<Figure size 432x288 with 1 Axes>"
            ]
          },
          "metadata": {
            "tags": []
          }
        },
        {
          "output_type": "display_data",
          "data": {
            "image/png": "[encoded data removed]",
            "text/plain": [
              "<Figure size 432x288 with 1 Axes>"
            ]
          },
          "metadata": {
            "tags": []
          }
        }
      ]
    }
  ]
}