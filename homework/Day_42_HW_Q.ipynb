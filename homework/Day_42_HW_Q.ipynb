{
 "cells": [
  {
   "cell_type": "markdown",
   "metadata": {},
   "source": [
    "## [作業重點]\n",
    "目前你應該已經要很清楚資料集中，資料的型態是什麼樣子囉！包含特徵 (features) 與標籤 (labels)。因此要記得未來不管什麼專案，必須要把資料清理成相同的格式，才能送進模型訓練。\n",
    "今天的作業開始踏入決策樹這個非常重要的模型，請務必確保你理解模型中每個超參數的意思，並試著調整看看，對最終預測結果的影響為何"
   ]
  },
  {
   "cell_type": "markdown",
   "metadata": {},
   "source": [
    "## 作業\n",
    "\n",
    "1. 試著調整 DecisionTreeClassifier(...) 中的參數，並觀察是否會改變結果？\n",
    "2. 改用其他資料集 (boston, wine)，並與回歸模型的結果進行比較"
   ]
  },
  {
   "cell_type": "code",
   "execution_count": 461,
   "metadata": {},
   "outputs": [],
   "source": [
    "from sklearn import datasets, metrics\n",
    "\n",
    "# 如果是分類問題，請使用 DecisionTreeClassifier，若為回歸問題，請使用 DecisionTreeRegressor\n",
    "from sklearn.tree import DecisionTreeClassifier, DecisionTreeRegressor\n",
    "from sklearn.model_selection import train_test_split"
   ]
  },
  {
   "cell_type": "markdown",
   "metadata": {},
   "source": [
    "建立模型四步驟\n",
    "在 Scikit-learn 中，建立一個機器學習的模型其實非常簡單，流程大略是以下四個步驟\n",
    "\n",
    "讀進資料，並檢查資料的 shape (有多少 samples (rows), 多少 features (columns)，label 的型態是什麼？)\n",
    "讀取資料的方法：\n",
    "使用 pandas 讀取 .csv 檔：pd.read_csv\n",
    "使用 numpy 讀取 .txt 檔：np.loadtxt\n",
    "使用 Scikit-learn 內建的資料集：sklearn.datasets.load_xxx\n",
    "檢查資料數量：data.shape (data should be np.array or dataframe)\n",
    "將資料切為訓練 (train) / 測試 (test)\n",
    "train_test_split(data)\n",
    "建立模型，將資料 fit 進模型開始訓練\n",
    "clf = DecisionTreeClassifier()\n",
    "clf.fit(x_train, y_train)\n",
    "將測試資料 (features) 放進訓練好的模型中，得到 prediction，與測試資料的 label (y_test) 做評估\n",
    "clf.predict(x_test)\n",
    "accuracy_score(y_test, y_pred)\n",
    "f1_score(y_test, y_pred)"
   ]
  },
  {
   "cell_type": "code",
   "execution_count": 462,
   "metadata": {},
   "outputs": [],
   "source": [
    "from functools import wraps\n",
    "def LoadData(dataload_fun,test_size=0.25,random_state=4):\n",
    "    print(\"Load data from Data Funcion:\",dataload_fun.__name__.upper())\n",
    "    \n",
    "    # 讀取資料集\n",
    "    datas = dataload_fun()\n",
    "    print(\"Fetures=\",datas.feature_names)\n",
    "    \n",
    "    # 切分訓練集/測試集\n",
    "    print(\" Data Rows=\",datas.data.shape[0],\" Featuers=\",datas.data.shape[1])\n",
    "    print(\" test_size=\",test_size, \"Random_state=\",random_state)\n",
    "    \n",
    "    x_train, x_test, y_train, y_test = train_test_split(datas.data, datas.target, test_size=test_size, random_state=random_state)\n",
    "    print(\" Train size=\",x_train.shape[0],\" Test size=\",x_test.shape[0])\n",
    "    \n",
    "    return x_train, x_test, y_train, y_test\n",
    "    "
   ]
  },
  {
   "cell_type": "code",
   "execution_count": 451,
   "metadata": {},
   "outputs": [],
   "source": [
    "#Classifi\n",
    "#IRIS鳶委花\n",
    "#LoadData(datasets.load_iris())\n",
    "\n",
    "#Regresion\n",
    "#Boston房價 \n",
    "#LoadData(datasets.load_boston())"
   ]
  },
  {
   "cell_type": "code",
   "execution_count": 463,
   "metadata": {},
   "outputs": [
    {
     "name": "stdout",
     "output_type": "stream",
     "text": [
      "Load data from Data Funcion: LOAD_IRIS\n",
      "Fetures= ['sepal length (cm)', 'sepal width (cm)', 'petal length (cm)', 'petal width (cm)']\n",
      " Data Rows= 150  Featuers= 4\n",
      " test_size= 0.25 Random_state= 4\n",
      " Train size= 112  Test size= 38\n"
     ]
    }
   ],
   "source": [
    "#載入資料\n",
    "x_train, x_test, y_train, y_test=LoadData(datasets.load_iris)"
   ]
  },
  {
   "cell_type": "code",
   "execution_count": 464,
   "metadata": {},
   "outputs": [],
   "source": [
    "def RunModel_Class(datafun,x_train,x_test,y_train,y_test,_Criterion='gini',_Max_depth=None,_Min_samples_split=2,_Min_samples_lear=1):\n",
    "    #Criterion 衡量量資料相似程度的 metric='gini' / 'entropy'\n",
    "    #Max_depth 樹能⽣生長的最深限制 None\n",
    "    #Min_samples_split ⾄至少要多少樣本以上才進⾏行行切分 2\n",
    "    #Min_samples_lear 最終的葉⼦子 (節點) 上⾄至少要有多少樣本 1\n",
    "    print(\"====DecisionTreeClassifier===\")\n",
    "    print(\" Train Rows=\",x_train.shape[0],\" Train Feuthers=\",x_train.shape[1])\n",
    "    print(\" Sample data=\\n\",x_train[0:3])\n",
    "    print(\" Sample result=\",y_train[0:10])#檢視貼標示是Classifi 還是 Regresion \n",
    "    \n",
    "    print(\" Parameter: Criterion=\",_Criterion,\" Max_Depth=\",_Max_depth,\" Min_Samples=\",_Min_samples_split,\" Min_Samples_Split=\",_Min_samples_lear)\n",
    "    # 建立模型\n",
    "    #clf = DecisionTreeClassifier(Criterion,Max_depth,Min_samples_split,Min_samples_lear)\n",
    "    clf = DecisionTreeClassifier(criterion=_Criterion,max_depth=_Max_depth,min_samples_split=_Min_samples_split)\n",
    "    #clf = DecisionTreeClassifier(Criterion,None,1,1)\n",
    "    print(\" Model x_train shape\",x_train.shape)\n",
    "    # 訓練模型\n",
    "    clf.fit(x_train, y_train)\n",
    "\n",
    "    # 預測測試集\n",
    "    y_pred = clf.predict(x_test)\n",
    "    \n",
    "    acc = metrics.accuracy_score(y_test, y_pred)\n",
    "    print(\" Acuuracy: [\", acc,\"]\")\n",
    "    \n",
    "    print(\" Data feature\",datafun().feature_names)\n",
    "    print(\" Feature importance: \",end='')\n",
    "    for i in clf.feature_importances_:\n",
    "        print(i,\"\\t\",end='')"
   ]
  },
  {
   "cell_type": "code",
   "execution_count": 465,
   "metadata": {},
   "outputs": [
    {
     "name": "stdout",
     "output_type": "stream",
     "text": [
      "====DecisionTreeClassifier===\n",
      " Train Rows= 112  Train Feuthers= 4\n",
      " Sample data=\n",
      " [[ 6.7  3.1  4.7  1.5]\n",
      " [ 5.1  3.8  1.6  0.2]\n",
      " [ 7.7  3.   6.1  2.3]]\n",
      " Sample result= [1 0 2 0 1 0 2 0 0 1]\n",
      " Parameter: Criterion= gini  Max_Depth= None  Min_Samples= 2  Min_Samples_Split= 1\n",
      " Model x_train shape (112, 4)\n",
      " Acuuracy: [ 0.973684210526 ]\n",
      " Data feature ['sepal length (cm)', 'sepal width (cm)', 'petal length (cm)', 'petal width (cm)']\n",
      " Feature importance: 0.0 \t0.0179659929419 \t0.0599236810462 \t0.922110326012 \t"
     ]
    }
   ],
   "source": [
    "RunModel_Class(datasets.load_iris,x_train,x_test,y_train,y_test,_Min_samples_split=2)"
   ]
  },
  {
   "cell_type": "code",
   "execution_count": 466,
   "metadata": {},
   "outputs": [
    {
     "name": "stdout",
     "output_type": "stream",
     "text": [
      "====DecisionTreeClassifier===\n",
      " Train Rows= 112  Train Feuthers= 4\n",
      " Sample data=\n",
      " [[ 6.7  3.1  4.7  1.5]\n",
      " [ 5.1  3.8  1.6  0.2]\n",
      " [ 7.7  3.   6.1  2.3]]\n",
      " Sample result= [1 0 2 0 1 0 2 0 0 1]\n",
      " Parameter: Criterion= gini  Max_Depth= None  Min_Samples= 3  Min_Samples_Split= 1\n",
      " Model x_train shape (112, 4)\n",
      " Acuuracy: [ 0.973684210526 ]\n",
      " Data feature ['sepal length (cm)', 'sepal width (cm)', 'petal length (cm)', 'petal width (cm)']\n",
      " Feature importance: 0.0 \t0.0179659929419 \t0.522291342259 \t0.459742664799 \t"
     ]
    }
   ],
   "source": [
    "RunModel_Class(datasets.load_iris,x_train,x_test,y_train,y_test,_Min_samples_split=3)"
   ]
  },
  {
   "cell_type": "code",
   "execution_count": 467,
   "metadata": {},
   "outputs": [
    {
     "name": "stdout",
     "output_type": "stream",
     "text": [
      "====DecisionTreeClassifier===\n",
      " Train Rows= 112  Train Feuthers= 4\n",
      " Sample data=\n",
      " [[ 6.7  3.1  4.7  1.5]\n",
      " [ 5.1  3.8  1.6  0.2]\n",
      " [ 7.7  3.   6.1  2.3]]\n",
      " Sample result= [1 0 2 0 1 0 2 0 0 1]\n",
      " Parameter: Criterion= gini  Max_Depth= None  Min_Samples= 50  Min_Samples_Split= 1\n",
      " Model x_train shape (112, 4)\n",
      " Acuuracy: [ 0.973684210526 ]\n",
      " Data feature ['sepal length (cm)', 'sepal width (cm)', 'petal length (cm)', 'petal width (cm)']\n",
      " Feature importance: 0.0 \t0.0 \t0.528053933902 \t0.471946066098 \t"
     ]
    }
   ],
   "source": [
    "RunModel_Class(datasets.load_iris,x_train,x_test,y_train,y_test,_Min_samples_split=50)"
   ]
  },
  {
   "cell_type": "markdown",
   "metadata": {},
   "source": [
    "def RunModel_Regress(_Criterion='gini',_Max_depth=None,_Min_samples_split=2,_Min_samples_lear=1):\n",
    "    #Criterion 衡量量資料相似程度的 metric='gini' / 'entropy'\n",
    "    #Max_depth 樹能⽣生長的最深限制 None\n",
    "    #Min_samples_split ⾄至少要多少樣本以上才進⾏行行切分 2\n",
    "    #Min_samples_lear 最終的葉⼦子 (節點) 上⾄至少要有多少樣本 1\n",
    "    print(\"x_Train.Shape=\",x_train.shape)\n",
    "    print(\"y_Train.Shape=\",y_train.shape)\n",
    "    \n",
    "    print(_Criterion,_Max_depth,_Min_samples_split,_Min_samples_lear)\n",
    "    # 建立模型\n",
    "    #clf = DecisionTreeClassifier(Criterion,Max_depth,Min_samples_split,Min_samples_lear)\n",
    "    #clf = DecisionTreeRegressor(criterion=_Criterion,max_depth=_Max_depth,min_samples_split=_Min_samples_split)\n",
    "    clf = DecisionTreeRegressor()\n",
    "    #clf = DecisionTreeClassifier(Criterion,None,1,1)\n",
    "    print(\"model x_train shape\",x_train.shape)\n",
    "    # 訓練模型\n",
    "    clf.fit(x_train, y_train)\n",
    "\n",
    "    # 預測測試集\n",
    "    y_pred = clf.predict(x_test)\n",
    "    \n",
    "    acc = metrics.accuracy_score(y_test, y_pred)\n",
    "    print(\"Acuuracy: \", acc)\n",
    "    \n",
    "    print(iris.feature_names)\n",
    "    print(\"Feature importance: \", clf.feature_importances_)"
   ]
  },
  {
   "cell_type": "markdown",
   "metadata": {},
   "source": [
    "LoadData(datasets.load_iris())\n",
    "print(y_test)\n",
    "LoadData(datasets.load_boston())\n",
    "print(y_test)\n"
   ]
  },
  {
   "cell_type": "markdown",
   "metadata": {},
   "source": [
    "#Wines"
   ]
  },
  {
   "cell_type": "markdown",
   "metadata": {},
   "source": [
    "＃DecisionTreeeRegressor的範例\n",
    "＃https://scikit-learn.org/stable/modules/generated/sklearn.tree.DecisionTreeRegressor.html"
   ]
  }
 ],
 "metadata": {
  "kernelspec": {
   "display_name": "Python 3",
   "language": "python",
   "name": "python3"
  },
  "language_info": {
   "codemirror_mode": {
    "name": "ipython",
    "version": 3
   },
   "file_extension": ".py",
   "mimetype": "text/x-python",
   "name": "python",
   "nbconvert_exporter": "python",
   "pygments_lexer": "ipython3",
   "version": "3.6.7"
  }
 },
 "nbformat": 4,
 "nbformat_minor": 2
}
