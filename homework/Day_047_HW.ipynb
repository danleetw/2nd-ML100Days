{
 "cells": [
  {
   "cell_type": "markdown",
   "metadata": {},
   "source": [
    "## [作業重點]\n",
    "了解如何使用 Sklearn 中的 hyper-parameter search 找出最佳的超參數"
   ]
  },
  {
   "cell_type": "markdown",
   "metadata": {},
   "source": [
    "### 作業\n",
    "請使用不同的資料集，並使用 hyper-parameter search 的方式，看能不能找出最佳的超參數組合"
   ]
  },
  {
   "cell_type": "code",
   "execution_count": 3,
   "metadata": {},
   "outputs": [],
   "source": [
    "from sklearn import datasets, metrics\n",
    "from sklearn.model_selection import train_test_split, KFold, GridSearchCV\n",
    "from sklearn.ensemble import GradientBoostingRegressor"
   ]
  },
  {
   "cell_type": "code",
   "execution_count": 8,
   "metadata": {},
   "outputs": [],
   "source": [
    "# 讀取Wine資料集\n",
    "datas=datasets.load_diabetes()"
   ]
  },
  {
   "cell_type": "code",
   "execution_count": 9,
   "metadata": {},
   "outputs": [],
   "source": [
    "# 切分訓練集/測試集\n",
    "x_train, x_test, y_train, y_test = train_test_split(datas.data, datas.target, test_size=0.25, random_state=42)\n",
    "\n",
    "# 建立模型\n",
    "clf = GradientBoostingRegressor(random_state=7)"
   ]
  },
  {
   "cell_type": "code",
   "execution_count": 10,
   "metadata": {},
   "outputs": [
    {
     "data": {
      "text/plain": [
       "array([ 166.,  189.,  173.,  220.,  206.,   97.,   60.,   61.,  242.,\n",
       "        121.,  128.,  104.,  265.,  132.,  283.,  174.,  129.,  257.,\n",
       "        137.,   63.,   93.,  232.,  208.,  261.,  179.,  258.,  262.,\n",
       "         51.,  237.,   71.,  139.,  268.,   69.,  317.,  249.,  154.,\n",
       "        192.,  116.,   81.,  122.,  259.,  191.,  292.,   55.,  107.,\n",
       "        210.,   91.,  253.,   85.,  252.,   59.,   78.,  200.,   78.,\n",
       "        245.,  175.,   42.,  127.,   53.,   94.,  104.,  199.,  265.,\n",
       "        281.,  248.,  257.,  215.,  303.,  170.,   59.,  277.,  209.,\n",
       "        138.,  198.,  124.,   96.,  288.,  225.,  265.,  101.,   55.,\n",
       "        198.,   51.,  252.,   64.,  220.,  131.,  212.,  142.,  103.,\n",
       "        155.,  121.,   86.,  111.,   65.,  131.,   51.,  128.,  141.,\n",
       "         48.,  109.,  178.,   88.,   84.,  216.,  150.,   60.,   96.,\n",
       "        190.,   74.,  279.,  182.,  160.,  245.,  276.,  174.,  180.,\n",
       "        150.,  196.,  138.,   97.,  246.,  321.,  308.,  109.,   69.,\n",
       "        182.,  258.,  161.,  178.,  214.,   45.,  150.,  160.,   55.,\n",
       "        197.,  185.,  268.,  310.,  123.,   68.,   72.,  185.,  144.,\n",
       "        147.,  168.,  178.,  246.,  151.,  127.,   83.,  332.,  152.,\n",
       "        109.,   90.,   66.,  214.,   85.,  129.,   89.,  259.,  229.,\n",
       "        200.,   77.,   54.,   31.,  109.,  206.,  144.,  118.,   83.,\n",
       "        242.,  259.,   72.,  163.,  181.,  141.,   71.,  137.,  195.,\n",
       "        179.,  102.,  131.,   47.,  235.,   77.,  198.,   93.,  162.,\n",
       "        225.,  275.,  183.,  306.,   81.,   55.,  146.,  196.,  230.,\n",
       "        310.,   40.,  135.,  346.,   43.,  128.,   77.,  235.,   49.,\n",
       "         74.,   92.,   84.,  263.,  144.,  142.,  341.,  115.,  158.,\n",
       "        273.,   85.,   88.,  220.,   39.,   80.,  172.,  217.,  336.,\n",
       "         52.,  272.,  115.,  110.,  131.,   71.,  275.,  118.,   25.,\n",
       "        100.,  281.,  221.,  248.,  200.,  132.,   91.,   67.,  202.,\n",
       "         73.,   85.,  275.,  243.,   66.,  293.,  236.,  243.,   87.,\n",
       "         39.,  217.,   92.,  296.,  292.,  142.,   50.,   53.,  104.,\n",
       "         75.,  120.,  142.,  143.,   99.,   65.,  116.,  233.,  164.,\n",
       "         95.,   59.,  139.,  145.,  177.,  185.,   97.,   42.,  201.,\n",
       "        241.,   70.,   78.,   49.,  103.,   44.,  111.,  191.,   47.,\n",
       "        182.,   58.,  155.,  151.,   79.,  104.,  143.,  152.,  170.,\n",
       "         75.,  200.,  124.,   91.,   49.,  163.,   53.,  283.,  178.,\n",
       "        219.,  200.,  113.,  113.,   63.,  114.,  126.,  274.,   88.,\n",
       "        311.,   83.,   71.,  134.,  244.,   65.,  173.,   57.,   68.,\n",
       "        141.,  270.,  134.,  202.,  148.,   64.,  302.])"
      ]
     },
     "execution_count": 10,
     "metadata": {},
     "output_type": "execute_result"
    }
   ],
   "source": [
    "y_train"
   ]
  },
  {
   "cell_type": "code",
   "execution_count": 11,
   "metadata": {},
   "outputs": [
    {
     "name": "stdout",
     "output_type": "stream",
     "text": [
      "3195.48463653\n"
     ]
    }
   ],
   "source": [
    "# 先看看使用預設參數得到的結果，約為 8.379 的 MSE\n",
    "clf.fit(x_train, y_train)\n",
    "y_pred = clf.predict(x_test)\n",
    "print(metrics.mean_squared_error(y_test, y_pred))"
   ]
  },
  {
   "cell_type": "code",
   "execution_count": 12,
   "metadata": {},
   "outputs": [
    {
     "name": "stderr",
     "output_type": "stream",
     "text": [
      "C:\\Users\\danlee\\Anaconda3\\envs\\tensorflow\\lib\\site-packages\\sklearn\\model_selection\\_split.py:2053: FutureWarning: You should specify a value for 'cv' instead of relying on the default value. The default value will change from 3 to 5 in version 0.22.\n",
      "  warnings.warn(CV_WARNING, FutureWarning)\n",
      "[Parallel(n_jobs=-1)]: Using backend LokyBackend with 4 concurrent workers.\n"
     ]
    },
    {
     "name": "stdout",
     "output_type": "stream",
     "text": [
      "Fitting 3 folds for each of 9 candidates, totalling 27 fits\n"
     ]
    },
    {
     "name": "stderr",
     "output_type": "stream",
     "text": [
      "[Parallel(n_jobs=-1)]: Done  20 out of  27 | elapsed:    0.9s remaining:    0.2s\n",
      "[Parallel(n_jobs=-1)]: Done  27 out of  27 | elapsed:    1.1s finished\n",
      "C:\\Users\\danlee\\Anaconda3\\envs\\tensorflow\\lib\\site-packages\\sklearn\\model_selection\\_search.py:841: DeprecationWarning: The default of the `iid` parameter will change from True to False in version 0.22 and will be removed in 0.24. This will change numeric results when test-set sizes are unequal.\n",
      "  DeprecationWarning)\n"
     ]
    }
   ],
   "source": [
    "# 設定要訓練的超參數組合\n",
    "n_estimators = [100, 200, 300,400,500,66]\n",
    "max_depth = [1, 3, 5]\n",
    "param_grid = dict(n_estimators=n_estimators, max_depth=max_depth)\n",
    "\n",
    "## 建立搜尋物件，放入模型及參數組合字典 (n_jobs=-1 會使用全部 cpu 平行運算)\n",
    "grid_search = GridSearchCV(clf, param_grid, scoring=\"neg_mean_squared_error\", n_jobs=-1, verbose=1)\n",
    "\n",
    "# 開始搜尋最佳參數\n",
    "grid_result = grid_search.fit(x_train, y_train)\n",
    "\n",
    "# 預設會跑 3-fold cross-validadtion，總共 9 種參數組合，總共要 train 27 次模型"
   ]
  },
  {
   "cell_type": "code",
   "execution_count": 13,
   "metadata": {},
   "outputs": [
    {
     "name": "stdout",
     "output_type": "stream",
     "text": [
      "Best Accuracy: -3351.749150 using {'max_depth': 1, 'n_estimators': 100}\n"
     ]
    }
   ],
   "source": [
    "# 印出最佳結果與最佳參數\n",
    "print(\"Best Accuracy: %f using %s\" % (grid_result.best_score_, grid_result.best_params_))"
   ]
  },
  {
   "cell_type": "code",
   "execution_count": 15,
   "metadata": {},
   "outputs": [],
   "source": [
    "# 使用最佳參數重新建立模型\n",
    "clf_bestparam = GradientBoostingRegressor(max_depth=grid_result.best_params_['max_depth'],\n",
    "                                           n_estimators=grid_result.best_params_['n_estimators'])\n",
    "\n",
    "# 訓練模型\n",
    "clf_bestparam.fit(x_train, y_train)\n",
    "\n",
    "# 預測測試集\n",
    "y_pred = clf_bestparam.predict(x_test)"
   ]
  },
  {
   "cell_type": "code",
   "execution_count": 16,
   "metadata": {},
   "outputs": [
    {
     "name": "stdout",
     "output_type": "stream",
     "text": [
      "2799.57746026\n"
     ]
    }
   ],
   "source": [
    "# 調整參數後約可降至 ? 的 MSE\n",
    "print(metrics.mean_squared_error(y_test, y_pred))"
   ]
  },
  {
   "cell_type": "code",
   "execution_count": null,
   "metadata": {},
   "outputs": [],
   "source": []
  }
 ],
 "metadata": {
  "kernelspec": {
   "display_name": "Python 3",
   "language": "python",
   "name": "python3"
  },
  "language_info": {
   "codemirror_mode": {
    "name": "ipython",
    "version": 3
   },
   "file_extension": ".py",
   "mimetype": "text/x-python",
   "name": "python",
   "nbconvert_exporter": "python",
   "pygments_lexer": "ipython3",
   "version": "3.6.7"
  }
 },
 "nbformat": 4,
 "nbformat_minor": 2
}
