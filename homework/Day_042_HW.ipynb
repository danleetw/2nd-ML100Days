{
 "cells": [
  {
   "cell_type": "markdown",
   "metadata": {},
   "source": [
    "## [作業重點]\n",
    "目前你應該已經要很清楚資料集中，資料的型態是什麼樣子囉！包含特徵 (features) 與標籤 (labels)。因此要記得未來不管什麼專案，必須要把資料清理成相同的格式，才能送進模型訓練。\n",
    "今天的作業開始踏入決策樹這個非常重要的模型，請務必確保你理解模型中每個超參數的意思，並試著調整看看，對最終預測結果的影響為何"
   ]
  },
  {
   "cell_type": "markdown",
   "metadata": {},
   "source": [
    "## 作業\n",
    "\n",
    "1. 試著調整 DecisionTreeClassifier(...) 中的參數，並觀察是否會改變結果？\n",
    "2. 改用其他資料集 (boston, wine)，並與回歸模型的結果進行比較"
   ]
  },
  {
   "cell_type": "code",
   "execution_count": 225,
   "metadata": {},
   "outputs": [],
   "source": [
    "from sklearn import datasets, metrics\n",
    "\n",
    "# 如果是分類問題，請使用 DecisionTreeClassifier，若為回歸問題，請使用 DecisionTreeRegressor\n",
    "from sklearn.tree import DecisionTreeClassifier, DecisionTreeRegressor\n",
    "from sklearn.model_selection import train_test_split"
   ]
  },
  {
   "cell_type": "markdown",
   "metadata": {},
   "source": [
    "建立模型四步驟\n",
    "在 Scikit-learn 中，建立一個機器學習的模型其實非常簡單，流程大略是以下四個步驟\n",
    "\n",
    "讀進資料，並檢查資料的 shape (有多少 samples (rows), 多少 features (columns)，label 的型態是什麼？)\n",
    "讀取資料的方法：\n",
    "使用 pandas 讀取 .csv 檔：pd.read_csv\n",
    "使用 numpy 讀取 .txt 檔：np.loadtxt\n",
    "使用 Scikit-learn 內建的資料集：sklearn.datasets.load_xxx\n",
    "檢查資料數量：data.shape (data should be np.array or dataframe)\n",
    "將資料切為訓練 (train) / 測試 (test)\n",
    "train_test_split(data)\n",
    "建立模型，將資料 fit 進模型開始訓練\n",
    "clf = DecisionTreeClassifier()\n",
    "clf.fit(x_train, y_train)\n",
    "將測試資料 (features) 放進訓練好的模型中，得到 prediction，與測試資料的 label (y_test) 做評估\n",
    "clf.predict(x_test)\n",
    "accuracy_score(y_test, y_pred)\n",
    "f1_score(y_test, y_pred)"
   ]
  },
  {
   "cell_type": "code",
   "execution_count": 226,
   "metadata": {},
   "outputs": [],
   "source": [
    "global x_train, x_test, y_train, y_test"
   ]
  },
  {
   "cell_type": "code",
   "execution_count": 227,
   "metadata": {},
   "outputs": [],
   "source": [
    "def LoadData(dataload_fun):\n",
    "    # 讀取鳶尾花資料集\n",
    "    #data = datasets.load_iris()\n",
    "    datas = dataload_fun\n",
    "    \n",
    "\n",
    "#boston = datasets.load_boston() #波士頓地產資料\n",
    "    # 切分訓練集/測試集\n",
    "    print(\"Load Data shape=\",datas.data.shape)\n",
    "    x_train, x_test, y_train, y_test = train_test_split(datas.data, datas.target, test_size=0.25, random_state=4)\n",
    "    return x_train, x_test, y_train, y_test\n",
    "    "
   ]
  },
  {
   "cell_type": "code",
   "execution_count": 252,
   "metadata": {},
   "outputs": [],
   "source": [
    "#IRIS"
   ]
  },
  {
   "cell_type": "code",
   "execution_count": 253,
   "metadata": {},
   "outputs": [
    {
     "name": "stdout",
     "output_type": "stream",
     "text": [
      "Load Data shape= (150, 4)\n",
      "(112, 4)\n"
     ]
    }
   ],
   "source": [
    "x_train, x_test, y_train, y_test=LoadData(datasets.load_iris())\n",
    "print(x_train.shape)"
   ]
  },
  {
   "cell_type": "code",
   "execution_count": 254,
   "metadata": {},
   "outputs": [],
   "source": [
    "#LoadData(datasets.load_iris())\n",
    "#LoadData(datasets.load_boston())"
   ]
  },
  {
   "cell_type": "code",
   "execution_count": 255,
   "metadata": {},
   "outputs": [],
   "source": [
    "def RunModel_Class(_Criterion='gini',_Max_depth=None,_Min_samples_split=2,_Min_samples_lear=1):\n",
    "    #Criterion 衡量量資料相似程度的 metric='gini' / 'entropy'\n",
    "    #Max_depth 樹能⽣生長的最深限制 None\n",
    "    #Min_samples_split ⾄至少要多少樣本以上才進⾏行行切分 2\n",
    "    #Min_samples_lear 最終的葉⼦子 (節點) 上⾄至少要有多少樣本 1\n",
    "    print(\"x_Train.Shape=\",x_train.shape)\n",
    "    print(\"y_Train.Shape=\",y_train.shape)\n",
    "    \n",
    "    print(_Criterion,_Max_depth,_Min_samples_split,_Min_samples_lear)\n",
    "    # 建立模型\n",
    "    #clf = DecisionTreeClassifier(Criterion,Max_depth,Min_samples_split,Min_samples_lear)\n",
    "    clf = DecisionTreeClassifier(criterion=_Criterion,max_depth=_Max_depth,min_samples_split=_Min_samples_split)\n",
    "    #clf = DecisionTreeClassifier(Criterion,None,1,1)\n",
    "    print(\"model x_train shape\",x_train.shape)\n",
    "    # 訓練模型\n",
    "    clf.fit(x_train, y_train)\n",
    "\n",
    "    # 預測測試集\n",
    "    y_pred = clf.predict(x_test)\n",
    "    \n",
    "    acc = metrics.accuracy_score(y_test, y_pred)\n",
    "    print(\"Acuuracy: \", acc)\n",
    "    \n",
    "    print(iris.feature_names)\n",
    "    print(\"Feature importance: \", clf.feature_importances_)"
   ]
  },
  {
   "cell_type": "code",
   "execution_count": 256,
   "metadata": {},
   "outputs": [],
   "source": [
    "def RunModel_Regress(_Criterion='gini',_Max_depth=None,_Min_samples_split=2,_Min_samples_lear=1):\n",
    "    #Criterion 衡量量資料相似程度的 metric='gini' / 'entropy'\n",
    "    #Max_depth 樹能⽣生長的最深限制 None\n",
    "    #Min_samples_split ⾄至少要多少樣本以上才進⾏行行切分 2\n",
    "    #Min_samples_lear 最終的葉⼦子 (節點) 上⾄至少要有多少樣本 1\n",
    "    print(\"x_Train.Shape=\",x_train.shape)\n",
    "    print(\"y_Train.Shape=\",y_train.shape)\n",
    "    \n",
    "    print(_Criterion,_Max_depth,_Min_samples_split,_Min_samples_lear)\n",
    "    # 建立模型\n",
    "    #clf = DecisionTreeClassifier(Criterion,Max_depth,Min_samples_split,Min_samples_lear)\n",
    "    #clf = DecisionTreeRegressor(criterion=_Criterion,max_depth=_Max_depth,min_samples_split=_Min_samples_split)\n",
    "    clf = DecisionTreeRegressor()\n",
    "    #clf = DecisionTreeClassifier(Criterion,None,1,1)\n",
    "    print(\"model x_train shape\",x_train.shape)\n",
    "    # 訓練模型\n",
    "    clf.fit(x_train, y_train)\n",
    "\n",
    "    # 預測測試集\n",
    "    y_pred = clf.predict(x_test)\n",
    "    \n",
    "    acc = metrics.accuracy_score(y_test, y_pred)\n",
    "    print(\"Acuuracy: \", acc)\n",
    "    \n",
    "    print(iris.feature_names)\n",
    "    print(\"Feature importance: \", clf.feature_importances_)"
   ]
  },
  {
   "cell_type": "markdown",
   "metadata": {},
   "source": [
    "LoadData(datasets.load_iris())\n",
    "print(y_test)\n",
    "LoadData(datasets.load_boston())\n",
    "print(y_test)\n"
   ]
  },
  {
   "cell_type": "code",
   "execution_count": 257,
   "metadata": {},
   "outputs": [
    {
     "name": "stdout",
     "output_type": "stream",
     "text": [
      "x_Train.Shape= (112, 4)\n",
      "y_Train.Shape= (112,)\n",
      "gini None 2 1\n",
      "model x_train shape (112, 4)\n",
      "Acuuracy:  0.973684210526\n",
      "['sepal length (cm)', 'sepal width (cm)', 'petal length (cm)', 'petal width (cm)']\n",
      "Feature importance:  [ 0.01796599  0.          0.05992368  0.92211033]\n"
     ]
    }
   ],
   "source": [
    "RunModel_Class(_Min_samples_split=2)"
   ]
  },
  {
   "cell_type": "markdown",
   "metadata": {},
   "source": [
    "#Wines"
   ]
  },
  {
   "cell_type": "code",
   "execution_count": 262,
   "metadata": {},
   "outputs": [
    {
     "name": "stdout",
     "output_type": "stream",
     "text": [
      "Load Data shape= (178, 13)\n",
      "(133, 13)\n"
     ]
    }
   ],
   "source": [
    "x_train, x_test, y_train, y_test=LoadData( datasets.load_wine())\n",
    "print(x_train.shape)"
   ]
  },
  {
   "cell_type": "code",
   "execution_count": 264,
   "metadata": {},
   "outputs": [
    {
     "name": "stdout",
     "output_type": "stream",
     "text": [
      "x_Train.Shape= (133, 13)\n",
      "y_Train.Shape= (133,)\n",
      "gini None 2 1\n",
      "model x_train shape (133, 13)\n",
      "Acuuracy:  0.888888888889\n",
      "['sepal length (cm)', 'sepal width (cm)', 'petal length (cm)', 'petal width (cm)']\n",
      "Feature importance:  [ 0.01364138  0.03076567  0.          0.          0.04405085  0.\n",
      "  0.06142526  0.          0.          0.33702516  0.          0.12444169\n",
      "  0.38865   ]\n"
     ]
    }
   ],
   "source": [
    "RunModel_Class()"
   ]
  },
  {
   "cell_type": "code",
   "execution_count": 267,
   "metadata": {},
   "outputs": [
    {
     "name": "stdout",
     "output_type": "stream",
     "text": [
      "x_Train.Shape= (133, 13)\n",
      "y_Train.Shape= (133,)\n",
      "gini None 100 1\n",
      "model x_train shape (133, 13)\n",
      "Acuuracy:  0.644444444444\n",
      "['sepal length (cm)', 'sepal width (cm)', 'petal length (cm)', 'petal width (cm)']\n",
      "Feature importance:  [ 0.  0.  0.  0.  0.  0.  0.  0.  0.  0.  0.  0.  1.]\n"
     ]
    }
   ],
   "source": [
    "RunModel_Class(_Min_samples_split=100)"
   ]
  },
  {
   "cell_type": "code",
   "execution_count": 271,
   "metadata": {},
   "outputs": [
    {
     "name": "stdout",
     "output_type": "stream",
     "text": [
      "x_Train.Shape= (133, 13)\n",
      "y_Train.Shape= (133,)\n",
      "gini None 2 1\n",
      "model x_train shape (133, 13)\n",
      "Acuuracy:  0.888888888889\n",
      "['sepal length (cm)', 'sepal width (cm)', 'petal length (cm)', 'petal width (cm)']\n",
      "Feature importance:  [ 0.04440705  0.0184594   0.          0.          0.04405085  0.12455196\n",
      "  0.          0.          0.          0.33702516  0.          0.04285558\n",
      "  0.38865   ]\n"
     ]
    }
   ],
   "source": [
    "RunModel_Class(_Min_samples_split=2)"
   ]
  },
  {
   "cell_type": "code",
   "execution_count": 277,
   "metadata": {},
   "outputs": [
    {
     "name": "stdout",
     "output_type": "stream",
     "text": [
      "x_Train.Shape= (133, 13)\n",
      "y_Train.Shape= (133,)\n",
      "gini None 60 1\n",
      "model x_train shape (133, 13)\n",
      "Acuuracy:  0.844444444444\n",
      "['sepal length (cm)', 'sepal width (cm)', 'petal length (cm)', 'petal width (cm)']\n",
      "Feature importance:  [ 0.          0.          0.          0.          0.          0.          0.\n",
      "  0.          0.          0.46442979  0.          0.          0.53557021]\n"
     ]
    }
   ],
   "source": [
    "RunModel_Class(_Min_samples_split=60)"
   ]
  },
  {
   "cell_type": "code",
   "execution_count": null,
   "metadata": {},
   "outputs": [],
   "source": []
  }
 ],
 "metadata": {
  "kernelspec": {
   "display_name": "Python 3",
   "language": "python",
   "name": "python3"
  },
  "language_info": {
   "codemirror_mode": {
    "name": "ipython",
    "version": 3
   },
   "file_extension": ".py",
   "mimetype": "text/x-python",
   "name": "python",
   "nbconvert_exporter": "python",
   "pygments_lexer": "ipython3",
   "version": "3.6.7"
  }
 },
 "nbformat": 4,
 "nbformat_minor": 2
}
