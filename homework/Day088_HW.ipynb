{
 "cells": [
  {
   "cell_type": "markdown",
   "metadata": {},
   "source": [
    "## Work\n",
    "1. 請嘗試寫一個 callback 用來記錄各類別在訓練過程中，對驗證集的 True Positive 與 True Negative"
   ]
  },
  {
   "cell_type": "code",
   "execution_count": 1,
   "metadata": {},
   "outputs": [
    {
     "name": "stderr",
     "output_type": "stream",
     "text": [
      "Using TensorFlow backend.\n"
     ]
    }
   ],
   "source": [
    "import os\n",
    "import keras\n",
    "\n",
    "# Disable GPU\n",
    "os.environ[\"CUDA_VISIBLE_DEVICES\"] = \"\""
   ]
  },
  {
   "cell_type": "code",
   "execution_count": 2,
   "metadata": {},
   "outputs": [],
   "source": [
    "train, test = keras.datasets.cifar10.load_data()"
   ]
  },
  {
   "cell_type": "code",
   "execution_count": 3,
   "metadata": {},
   "outputs": [],
   "source": [
    "## 資料前處理\n",
    "def preproc_x(x, flatten=True):\n",
    "    x = x / 255.\n",
    "    if flatten:\n",
    "        x = x.reshape((len(x), -1))\n",
    "    return x\n",
    "\n",
    "def preproc_y(y, num_classes=10):\n",
    "    if y.shape[-1] == 1:\n",
    "        y = keras.utils.to_categorical(y, num_classes)\n",
    "    return y    "
   ]
  },
  {
   "cell_type": "code",
   "execution_count": 4,
   "metadata": {},
   "outputs": [],
   "source": [
    "x_train, y_train = train\n",
    "x_test, y_test = test\n",
    "\n",
    "# Preproc the inputs\n",
    "x_train = preproc_x(x_train)\n",
    "x_test = preproc_x(x_test)\n",
    "\n",
    "# Preprc the outputs\n",
    "y_train = preproc_y(y_train)\n",
    "y_test = preproc_y(y_test)"
   ]
  },
  {
   "cell_type": "code",
   "execution_count": 5,
   "metadata": {},
   "outputs": [],
   "source": [
    "from keras.layers import BatchNormalization\n",
    "def build_mlp(input_shape, output_units=10, num_neurons=[256, 256, 256]):\n",
    "    \"\"\"Code Here\n",
    "    建立你的神經網路\n",
    "    \"\"\"\n",
    "    input_layer = keras.layers.Input(input_shape)\n",
    "    \n",
    "    for i, n_units in enumerate(num_neurons):\n",
    "        if i == 0:\n",
    "            x = keras.layers.Dense(units=n_units, \n",
    "                                   activation=\"relu\", \n",
    "                                   name=\"hidden_layer\"+str(i+1))(input_layer)\n",
    "            x = BatchNormalization()(x)\n",
    "        else:\n",
    "            x = keras.layers.Dense(units=n_units, \n",
    "                                   activation=\"relu\", \n",
    "                                   name=\"hidden_layer\"+str(i+1))(x)\n",
    "            x = BatchNormalization()(x)\n",
    "    \n",
    "    out = keras.layers.Dense(units=output_units, activation=\"softmax\", name=\"output\")(x)\n",
    "    \n",
    "    model = keras.models.Model(inputs=[input_layer], outputs=[out])\n",
    "    return model"
   ]
  },
  {
   "cell_type": "code",
   "execution_count": 6,
   "metadata": {},
   "outputs": [],
   "source": [
    "## 超參數設定\n",
    "LEARNING_RATE = 1e-3\n",
    "EPOCHS = 25\n",
    "BATCH_SIZE = 1024\n",
    "MOMENTUM = 0.95"
   ]
  },
  {
   "cell_type": "code",
   "execution_count": 12,
   "metadata": {},
   "outputs": [],
   "source": [
    "# 載入 Callbacks\n",
    "from keras.callbacks import Callback\n",
    "import numpy as np\n",
    "\n",
    "# Record_fp_tp\n",
    "class Record_tp_tn(Callback):\n",
    "    \"\"\"Code Here\n",
    "    撰寫一個紀錄 ture positive 與 true negative 數量的 callbacks    \n",
    "    \"\"\"\n",
    "    def on_train_begin(self, epoch, logs = {}):\n",
    "        logs = logs or {}\n",
    "        record_items = [\"val_auc\", \"true_positives\", \"true_negatives\", \"val_fp\", \"val_fn\", \"val_tp\", \"val_tn\"]\n",
    "        for i in record_items:\n",
    "            if i not in self.params['metrics']:\n",
    "                self.params['metrics'].append(i)\n",
    "    def on_epoch_end(self, epoch, logs = {}, thres=0.5):\n",
    "        logs = logs or {}\n",
    "        y_true = self.validation_data[1].argmax(axis = 1)\n",
    "        y_pred = self.model.predict(self.validation_data[0])\n",
    "        y_pred = (y_pred[:, 1] >= thres) * 1\n",
    "        true_positives = np.sum(np.logical_and(y_pred == 1, y_true == 1))\n",
    "        true_negatives = np.sum(np.logical_and(y_pred == 0, y_true == 0))\n",
    "        logs[\"true_positives\"] = true_positives\n",
    "        logs[\"true_negatives\"] = true_negatives\n",
    "        \n",
    "rec_tptn = Record_tp_tn()"
   ]
  },
  {
   "cell_type": "code",
   "execution_count": 13,
   "metadata": {
    "scrolled": true
   },
   "outputs": [
    {
     "name": "stdout",
     "output_type": "stream",
     "text": [
      "_________________________________________________________________\n",
      "Layer (type)                 Output Shape              Param #   \n",
      "=================================================================\n",
      "input_3 (InputLayer)         (None, 3072)              0         \n",
      "_________________________________________________________________\n",
      "hidden_layer1 (Dense)        (None, 256)               786688    \n",
      "_________________________________________________________________\n",
      "batch_normalization_7 (Batch (None, 256)               1024      \n",
      "_________________________________________________________________\n",
      "hidden_layer2 (Dense)        (None, 256)               65792     \n",
      "_________________________________________________________________\n",
      "batch_normalization_8 (Batch (None, 256)               1024      \n",
      "_________________________________________________________________\n",
      "hidden_layer3 (Dense)        (None, 256)               65792     \n",
      "_________________________________________________________________\n",
      "batch_normalization_9 (Batch (None, 256)               1024      \n",
      "_________________________________________________________________\n",
      "output (Dense)               (None, 10)                2570      \n",
      "=================================================================\n",
      "Total params: 923,914\n",
      "Trainable params: 922,378\n",
      "Non-trainable params: 1,536\n",
      "_________________________________________________________________\n",
      "Train on 50000 samples, validate on 10000 samples\n",
      "Epoch 1/25\n",
      "50000/50000 [==============================] - 6s 114us/step - loss: 2.2639 - acc: 0.2572 - val_loss: 2.1876 - val_acc: 0.3014\n",
      "Epoch 2/25\n",
      "50000/50000 [==============================] - 4s 81us/step - loss: 1.7740 - acc: 0.3819 - val_loss: 1.8339 - val_acc: 0.3628\n",
      "Epoch 3/25\n",
      "50000/50000 [==============================] - 4s 75us/step - loss: 1.6421 - acc: 0.4276 - val_loss: 1.7256 - val_acc: 0.3978\n",
      "Epoch 4/25\n",
      "50000/50000 [==============================] - 4s 78us/step - loss: 1.5673 - acc: 0.4515 - val_loss: 1.6504 - val_acc: 0.4233\n",
      "Epoch 5/25\n",
      "50000/50000 [==============================] - 4s 78us/step - loss: 1.5143 - acc: 0.4692 - val_loss: 1.6160 - val_acc: 0.4358\n",
      "Epoch 6/25\n",
      "50000/50000 [==============================] - 4s 79us/step - loss: 1.4673 - acc: 0.4860 - val_loss: 1.5761 - val_acc: 0.4455\n",
      "Epoch 7/25\n",
      "50000/50000 [==============================] - 4s 79us/step - loss: 1.4297 - acc: 0.4987 - val_loss: 1.5641 - val_acc: 0.4536\n",
      "Epoch 8/25\n",
      "50000/50000 [==============================] - 4s 81us/step - loss: 1.3953 - acc: 0.5119 - val_loss: 1.5408 - val_acc: 0.4582\n",
      "Epoch 9/25\n",
      "50000/50000 [==============================] - 4s 78us/step - loss: 1.3656 - acc: 0.5233 - val_loss: 1.5440 - val_acc: 0.4571\n",
      "Epoch 10/25\n",
      "50000/50000 [==============================] - 4s 83us/step - loss: 1.3384 - acc: 0.5324 - val_loss: 1.5182 - val_acc: 0.4682\n",
      "Epoch 11/25\n",
      "50000/50000 [==============================] - 4s 88us/step - loss: 1.3130 - acc: 0.5408 - val_loss: 1.5039 - val_acc: 0.4709\n",
      "Epoch 12/25\n",
      "50000/50000 [==============================] - 5s 92us/step - loss: 1.2886 - acc: 0.5483 - val_loss: 1.5009 - val_acc: 0.4755\n",
      "Epoch 13/25\n",
      "50000/50000 [==============================] - 4s 84us/step - loss: 1.2647 - acc: 0.5590 - val_loss: 1.4935 - val_acc: 0.4801\n",
      "Epoch 14/25\n",
      "50000/50000 [==============================] - 4s 83us/step - loss: 1.2444 - acc: 0.5690 - val_loss: 1.4893 - val_acc: 0.4755\n",
      "Epoch 15/25\n",
      "50000/50000 [==============================] - 4s 82us/step - loss: 1.2243 - acc: 0.5745 - val_loss: 1.4781 - val_acc: 0.4862\n",
      "Epoch 16/25\n",
      "50000/50000 [==============================] - 5s 95us/step - loss: 1.2033 - acc: 0.5825 - val_loss: 1.4758 - val_acc: 0.4825\n",
      "Epoch 17/25\n",
      "50000/50000 [==============================] - 4s 79us/step - loss: 1.1848 - acc: 0.5887 - val_loss: 1.4692 - val_acc: 0.4858\n",
      "Epoch 18/25\n",
      "50000/50000 [==============================] - 4s 83us/step - loss: 1.1644 - acc: 0.5957 - val_loss: 1.4789 - val_acc: 0.4861\n",
      "Epoch 19/25\n",
      "50000/50000 [==============================] - 4s 79us/step - loss: 1.1453 - acc: 0.6037 - val_loss: 1.4783 - val_acc: 0.4874\n",
      "Epoch 20/25\n",
      "50000/50000 [==============================] - 4s 81us/step - loss: 1.1274 - acc: 0.6109 - val_loss: 1.4631 - val_acc: 0.4924\n",
      "Epoch 21/25\n",
      "50000/50000 [==============================] - 4s 81us/step - loss: 1.1101 - acc: 0.6176 - val_loss: 1.4613 - val_acc: 0.4956\n",
      "Epoch 22/25\n",
      "50000/50000 [==============================] - 4s 82us/step - loss: 1.0945 - acc: 0.6220 - val_loss: 1.4641 - val_acc: 0.4943\n",
      "Epoch 23/25\n",
      "50000/50000 [==============================] - 4s 81us/step - loss: 1.0783 - acc: 0.6300 - val_loss: 1.4634 - val_acc: 0.4905\n",
      "Epoch 24/25\n",
      "50000/50000 [==============================] - 4s 79us/step - loss: 1.0578 - acc: 0.6385 - val_loss: 1.4676 - val_acc: 0.4949\n",
      "Epoch 25/25\n",
      "50000/50000 [==============================] - 4s 84us/step - loss: 1.0431 - acc: 0.6432 - val_loss: 1.4460 - val_acc: 0.4975\n"
     ]
    }
   ],
   "source": [
    "model = build_mlp(input_shape=x_train.shape[1:])\n",
    "model.summary()\n",
    "optimizer = keras.optimizers.SGD(lr=LEARNING_RATE, nesterov=True, momentum=MOMENTUM)\n",
    "model.compile(loss=\"categorical_crossentropy\", metrics=[\"accuracy\"], optimizer=optimizer)\n",
    "\n",
    "\"\"\"Code Here\n",
    "將 callbacks 放入模型訓練流程中\n",
    "\"\"\"\n",
    "model.fit(x_train, y_train, \n",
    "          epochs=EPOCHS, \n",
    "          batch_size=BATCH_SIZE, \n",
    "          validation_data=(x_test, y_test), \n",
    "          shuffle=True,\n",
    "          callbacks=[rec_tptn]\n",
    "         )\n",
    "\n",
    "# Collect results\n",
    "train_loss = model.history.history[\"loss\"]\n",
    "valid_loss = model.history.history[\"val_loss\"]\n",
    "train_acc = model.history.history[\"acc\"]\n",
    "valid_acc = model.history.history[\"val_acc\"]\n",
    "\n",
    "\"\"\"Code Here\n",
    "將 tp/tn 從訓練完的模型中取出\n",
    "\"\"\"\n",
    "valid_tp = model.history.history['true_positives']\n",
    "valid_tn = model.history.history['true_negatives']"
   ]
  },
  {
   "cell_type": "code",
   "execution_count": null,
   "metadata": {},
   "outputs": [],
   "source": [
    "import matplotlib.pyplot as plt\n",
    "%matplotlib inline\n",
    "\n",
    "plt.plot(range(len(train_loss)), train_loss, label=\"train loss\")\n",
    "plt.plot(range(len(valid_loss)), valid_loss, label=\"valid loss\")\n",
    "plt.legend()\n",
    "plt.title(\"Loss\")\n",
    "plt.show()\n",
    "\n",
    "plt.plot(range(len(train_acc)), train_acc, label=\"train accuracy\")\n",
    "plt.plot(range(len(valid_acc)), valid_acc, label=\"valid accuracy\")\n",
    "plt.legend()\n",
    "plt.title(\"Accuracy\")\n",
    "plt.show()\n",
    "\n",
    "plt.plot(range(len(valid_tp)), valid_tp, label=\"valid tp\", color=\"navy\")\n",
    "plt.plot(range(len(valid_tn)), valid_tn, label=\"valid tn\", color=\"red\")\n",
    "plt.legend()\n",
    "plt.title(\"True positives and True Negatives\")\n",
    "plt.show()\n"
   ]
  }
 ],
 "metadata": {
  "kernelspec": {
   "display_name": "Python 3",
   "language": "python",
   "name": "python3"
  },
  "language_info": {
   "codemirror_mode": {
    "name": "ipython",
    "version": 3
   },
   "file_extension": ".py",
   "mimetype": "text/x-python",
   "name": "python",
   "nbconvert_exporter": "python",
   "pygments_lexer": "ipython3",
   "version": "3.7.3"
  }
 },
 "nbformat": 4,
 "nbformat_minor": 2
}
