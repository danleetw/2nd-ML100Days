{
 "cells": [
  {
   "cell_type": "markdown",
   "metadata": {},
   "source": [
    "## Work\n",
    "1. 試比較 save_best_only 與否的差異\n",
    "2. 請僅存入將 save_weights_only 設定為 True, 並嘗試 reset ipynb 並將模型與權重重新建回並預測 x_test"
   ]
  },
  {
   "cell_type": "code",
   "execution_count": 1,
   "metadata": {},
   "outputs": [
    {
     "name": "stderr",
     "output_type": "stream",
     "text": [
      "Using TensorFlow backend.\n"
     ]
    }
   ],
   "source": [
    "import os\n",
    "import keras\n",
    "\n",
    "# Disable GPU\n",
    "os.environ[\"CUDA_VISIBLE_DEVICES\"] = \"\""
   ]
  },
  {
   "cell_type": "code",
   "execution_count": 2,
   "metadata": {},
   "outputs": [],
   "source": [
    "train, test = keras.datasets.cifar10.load_data()"
   ]
  },
  {
   "cell_type": "code",
   "execution_count": 3,
   "metadata": {},
   "outputs": [],
   "source": [
    "## 資料前處理\n",
    "def preproc_x(x, flatten=True):\n",
    "    x = x / 255.\n",
    "    if flatten:\n",
    "        x = x.reshape((len(x), -1))\n",
    "    return x\n",
    "\n",
    "def preproc_y(y, num_classes=10):\n",
    "    if y.shape[-1] == 1:\n",
    "        y = keras.utils.to_categorical(y, num_classes)\n",
    "    return y    "
   ]
  },
  {
   "cell_type": "code",
   "execution_count": 4,
   "metadata": {},
   "outputs": [],
   "source": [
    "x_train, y_train = train\n",
    "x_test, y_test = test\n",
    "\n",
    "# Preproc the inputs\n",
    "x_train = preproc_x(x_train)\n",
    "x_test = preproc_x(x_test)\n",
    "\n",
    "# Preprc the outputs\n",
    "y_train = preproc_y(y_train)\n",
    "y_test = preproc_y(y_test)"
   ]
  },
  {
   "cell_type": "code",
   "execution_count": 5,
   "metadata": {},
   "outputs": [],
   "source": [
    "from keras.layers import BatchNormalization\n",
    "\n",
    "def build_mlp(input_shape, output_units=10, num_neurons=[512, 256, 128]):\n",
    "    \"\"\"Code Here\n",
    "    建立你的神經網路\n",
    "    \"\"\"\n",
    "    input_layer = keras.layers.Input(input_shape)\n",
    "    \n",
    "    for i, n_units in enumerate(num_neurons):\n",
    "        if i == 0:\n",
    "            x = keras.layers.Dense(units=n_units, \n",
    "                                   activation=\"relu\", \n",
    "                                   name=\"hidden_layer\"+str(i+1))(input_layer)\n",
    "            x = BatchNormalization()(x)\n",
    "        else:\n",
    "            x = keras.layers.Dense(units=n_units, \n",
    "                                   activation=\"relu\", \n",
    "                                   name=\"hidden_layer\"+str(i+1))(x)\n",
    "            x = BatchNormalization()(x)\n",
    "    \n",
    "    out = keras.layers.Dense(units=output_units, activation=\"softmax\", name=\"output\")(x)\n",
    "    \n",
    "    model = keras.models.Model(inputs=[input_layer], outputs=[out])\n",
    "    return model"
   ]
  },
  {
   "cell_type": "code",
   "execution_count": 6,
   "metadata": {},
   "outputs": [],
   "source": [
    "\"\"\"Code Here\n",
    "設定超參數\n",
    "\"\"\"\n",
    "LEARNING_RATE = 1e-3\n",
    "EPOCHS = 50\n",
    "BATCH_SIZE = 1024\n",
    "MOMENTUM = 0.95"
   ]
  },
  {
   "cell_type": "code",
   "execution_count": 8,
   "metadata": {},
   "outputs": [
    {
     "name": "stdout",
     "output_type": "stream",
     "text": [
      "_________________________________________________________________\n",
      "Layer (type)                 Output Shape              Param #   \n",
      "=================================================================\n",
      "input_2 (InputLayer)         (None, 3072)              0         \n",
      "_________________________________________________________________\n",
      "hidden_layer1 (Dense)        (None, 512)               1573376   \n",
      "_________________________________________________________________\n",
      "batch_normalization_4 (Batch (None, 512)               2048      \n",
      "_________________________________________________________________\n",
      "hidden_layer2 (Dense)        (None, 256)               131328    \n",
      "_________________________________________________________________\n",
      "batch_normalization_5 (Batch (None, 256)               1024      \n",
      "_________________________________________________________________\n",
      "hidden_layer3 (Dense)        (None, 128)               32896     \n",
      "_________________________________________________________________\n",
      "batch_normalization_6 (Batch (None, 128)               512       \n",
      "_________________________________________________________________\n",
      "output (Dense)               (None, 10)                1290      \n",
      "=================================================================\n",
      "Total params: 1,742,474\n",
      "Trainable params: 1,740,682\n",
      "Non-trainable params: 1,792\n",
      "_________________________________________________________________\n",
      "WARNING:tensorflow:From C:\\Users\\danlee\\Anaconda3\\envs\\tensorflow\\lib\\site-packages\\tensorflow\\python\\ops\\math_ops.py:3066: to_int32 (from tensorflow.python.ops.math_ops) is deprecated and will be removed in a future version.\n",
      "Instructions for updating:\n",
      "Use tf.cast instead.\n",
      "Train on 50000 samples, validate on 10000 samples\n",
      "Epoch 1/50\n",
      "50000/50000 [==============================] - 13s 269us/step - loss: 2.2411 - acc: 0.2631 - val_loss: 2.1178 - val_acc: 0.3333\n",
      "Epoch 2/50\n",
      "50000/50000 [==============================] - 10s 199us/step - loss: 1.7452 - acc: 0.3914 - val_loss: 1.8384 - val_acc: 0.3735\n",
      "Epoch 3/50\n",
      "50000/50000 [==============================] - 10s 196us/step - loss: 1.6196 - acc: 0.4310 - val_loss: 1.6963 - val_acc: 0.4072\n",
      "Epoch 4/50\n",
      "50000/50000 [==============================] - 10s 192us/step - loss: 1.5468 - acc: 0.4569 - val_loss: 1.6365 - val_acc: 0.4190\n",
      "Epoch 5/50\n",
      "50000/50000 [==============================] - 10s 193us/step - loss: 1.4918 - acc: 0.4761 - val_loss: 1.5891 - val_acc: 0.4413\n",
      "Epoch 6/50\n",
      "50000/50000 [==============================] - 9s 187us/step - loss: 1.4457 - acc: 0.4952 - val_loss: 1.5622 - val_acc: 0.4494\n",
      "Epoch 7/50\n",
      "50000/50000 [==============================] - 9s 186us/step - loss: 1.4085 - acc: 0.5090 - val_loss: 1.5535 - val_acc: 0.4561\n",
      "Epoch 8/50\n",
      "50000/50000 [==============================] - 9s 183us/step - loss: 1.3736 - acc: 0.5212 - val_loss: 1.5255 - val_acc: 0.4595\n",
      "Epoch 9/50\n",
      "50000/50000 [==============================] - 7s 137us/step - loss: 1.3390 - acc: 0.5366 - val_loss: 1.5171 - val_acc: 0.4647\n",
      "Epoch 10/50\n",
      "50000/50000 [==============================] - 6s 115us/step - loss: 1.3106 - acc: 0.5462 - val_loss: 1.5054 - val_acc: 0.4693\n",
      "Epoch 11/50\n",
      "50000/50000 [==============================] - 5s 107us/step - loss: 1.2825 - acc: 0.5567 - val_loss: 1.4860 - val_acc: 0.4746\n",
      "Epoch 12/50\n",
      "50000/50000 [==============================] - 5s 108us/step - loss: 1.2558 - acc: 0.5663 - val_loss: 1.4868 - val_acc: 0.4734\n",
      "Epoch 13/50\n",
      "50000/50000 [==============================] - 5s 110us/step - loss: 1.2327 - acc: 0.5762 - val_loss: 1.4862 - val_acc: 0.4806\n",
      "Epoch 14/50\n",
      "50000/50000 [==============================] - 5s 108us/step - loss: 1.2074 - acc: 0.5852 - val_loss: 1.4706 - val_acc: 0.4839\n",
      "Epoch 15/50\n",
      "50000/50000 [==============================] - 6s 111us/step - loss: 1.1812 - acc: 0.5939 - val_loss: 1.4635 - val_acc: 0.4837\n",
      "Epoch 16/50\n",
      "50000/50000 [==============================] - 6s 110us/step - loss: 1.1581 - acc: 0.6027 - val_loss: 1.4528 - val_acc: 0.4894\n",
      "Epoch 17/50\n",
      "50000/50000 [==============================] - 5s 109us/step - loss: 1.1350 - acc: 0.6107 - val_loss: 1.4642 - val_acc: 0.4876\n",
      "Epoch 18/50\n",
      "50000/50000 [==============================] - 5s 110us/step - loss: 1.1129 - acc: 0.6183 - val_loss: 1.4572 - val_acc: 0.4896\n",
      "Epoch 19/50\n",
      "50000/50000 [==============================] - 6s 112us/step - loss: 1.0913 - acc: 0.6283 - val_loss: 1.4708 - val_acc: 0.4837\n",
      "Epoch 20/50\n",
      "50000/50000 [==============================] - 6s 110us/step - loss: 1.0704 - acc: 0.6351 - val_loss: 1.4593 - val_acc: 0.4892\n",
      "Epoch 21/50\n",
      "50000/50000 [==============================] - 6s 118us/step - loss: 1.0491 - acc: 0.6454 - val_loss: 1.4587 - val_acc: 0.4929\n",
      "Epoch 22/50\n",
      "50000/50000 [==============================] - 6s 112us/step - loss: 1.0273 - acc: 0.6524 - val_loss: 1.4662 - val_acc: 0.4885\n",
      "Epoch 23/50\n",
      "50000/50000 [==============================] - 5s 109us/step - loss: 1.0067 - acc: 0.6600 - val_loss: 1.4589 - val_acc: 0.4936\n",
      "Epoch 24/50\n",
      "50000/50000 [==============================] - 5s 109us/step - loss: 0.9847 - acc: 0.6685 - val_loss: 1.4654 - val_acc: 0.4949\n",
      "Epoch 25/50\n",
      "50000/50000 [==============================] - 5s 110us/step - loss: 0.9659 - acc: 0.6743 - val_loss: 1.4540 - val_acc: 0.4947\n",
      "Epoch 26/50\n",
      "50000/50000 [==============================] - 6s 110us/step - loss: 0.9449 - acc: 0.6836 - val_loss: 1.4666 - val_acc: 0.4970\n",
      "Epoch 27/50\n",
      "50000/50000 [==============================] - 6s 110us/step - loss: 0.9246 - acc: 0.6913 - val_loss: 1.4753 - val_acc: 0.4903\n",
      "Epoch 28/50\n",
      "50000/50000 [==============================] - 6s 111us/step - loss: 0.9038 - acc: 0.7000 - val_loss: 1.4702 - val_acc: 0.4916\n",
      "Epoch 29/50\n",
      "50000/50000 [==============================] - 6s 111us/step - loss: 0.8858 - acc: 0.7061 - val_loss: 1.4732 - val_acc: 0.4979\n",
      "Epoch 30/50\n",
      "50000/50000 [==============================] - 6s 111us/step - loss: 0.8648 - acc: 0.7149 - val_loss: 1.4857 - val_acc: 0.4955\n",
      "Epoch 31/50\n",
      "50000/50000 [==============================] - 6s 110us/step - loss: 0.8475 - acc: 0.7212 - val_loss: 1.4866 - val_acc: 0.4973\n",
      "Epoch 32/50\n",
      "50000/50000 [==============================] - 6s 112us/step - loss: 0.8275 - acc: 0.7311 - val_loss: 1.4952 - val_acc: 0.4962\n",
      "Epoch 33/50\n",
      "50000/50000 [==============================] - 6s 111us/step - loss: 0.8083 - acc: 0.7379 - val_loss: 1.5075 - val_acc: 0.4923\n",
      "Epoch 34/50\n",
      "50000/50000 [==============================] - 6s 111us/step - loss: 0.7888 - acc: 0.7444 - val_loss: 1.5175 - val_acc: 0.4963\n",
      "Epoch 35/50\n",
      "50000/50000 [==============================] - 6s 110us/step - loss: 0.7704 - acc: 0.7521 - val_loss: 1.5168 - val_acc: 0.4958\n",
      "Epoch 36/50\n",
      "50000/50000 [==============================] - 6s 111us/step - loss: 0.7524 - acc: 0.7588 - val_loss: 1.5286 - val_acc: 0.4885\n",
      "Epoch 37/50\n",
      "50000/50000 [==============================] - 6s 111us/step - loss: 0.7332 - acc: 0.7674 - val_loss: 1.5244 - val_acc: 0.4969\n",
      "Epoch 38/50\n",
      "50000/50000 [==============================] - 6s 114us/step - loss: 0.7137 - acc: 0.7745 - val_loss: 1.5451 - val_acc: 0.4959\n",
      "Epoch 39/50\n",
      "50000/50000 [==============================] - 6s 111us/step - loss: 0.6955 - acc: 0.7812 - val_loss: 1.5459 - val_acc: 0.4921\n",
      "Epoch 40/50\n",
      "50000/50000 [==============================] - 5s 108us/step - loss: 0.6778 - acc: 0.7875 - val_loss: 1.5567 - val_acc: 0.4913\n",
      "Epoch 41/50\n",
      "50000/50000 [==============================] - 5s 109us/step - loss: 0.6588 - acc: 0.7954 - val_loss: 1.5887 - val_acc: 0.4870\n",
      "Epoch 42/50\n",
      "50000/50000 [==============================] - 5s 108us/step - loss: 0.6424 - acc: 0.8030 - val_loss: 1.5888 - val_acc: 0.4936\n",
      "Epoch 43/50\n",
      "50000/50000 [==============================] - 5s 109us/step - loss: 0.6232 - acc: 0.8105 - val_loss: 1.5993 - val_acc: 0.4846\n",
      "Epoch 44/50\n",
      "50000/50000 [==============================] - 5s 108us/step - loss: 0.6044 - acc: 0.8189 - val_loss: 1.6026 - val_acc: 0.4892\n",
      "Epoch 45/50\n",
      "50000/50000 [==============================] - 5s 109us/step - loss: 0.5877 - acc: 0.8247 - val_loss: 1.6201 - val_acc: 0.4929\n",
      "Epoch 46/50\n",
      "50000/50000 [==============================] - 5s 109us/step - loss: 0.5742 - acc: 0.8281 - val_loss: 1.6487 - val_acc: 0.4834\n",
      "Epoch 47/50\n"
     ]
    },
    {
     "name": "stdout",
     "output_type": "stream",
     "text": [
      "50000/50000 [==============================] - 5s 110us/step - loss: 0.5564 - acc: 0.8359 - val_loss: 1.6470 - val_acc: 0.4892\n",
      "Epoch 48/50\n",
      "50000/50000 [==============================] - 6s 120us/step - loss: 0.5367 - acc: 0.8449 - val_loss: 1.6695 - val_acc: 0.4852\n",
      "Epoch 49/50\n",
      "50000/50000 [==============================] - 5s 109us/step - loss: 0.5216 - acc: 0.8488 - val_loss: 1.6668 - val_acc: 0.4897\n",
      "Epoch 50/50\n",
      "50000/50000 [==============================] - 6s 110us/step - loss: 0.5052 - acc: 0.8563 - val_loss: 1.6770 - val_acc: 0.4884\n"
     ]
    }
   ],
   "source": [
    "# 載入 Callbacks\n",
    "\"\"\"Code Here\n",
    "設定 callbacks: model checkpoint\n",
    "\"\"\"\n",
    "\n",
    "from keras.callbacks import ModelCheckpoint\n",
    "\n",
    "model_ckpt = ModelCheckpoint(filepath=\"./tmp86.h5\", \n",
    "                             monitor=\"val_loss\", \n",
    "                             save_best_only=True)\n",
    "\n",
    "\n",
    "results = {}\n",
    "\"\"\"Code Here\n",
    "撰寫你的訓練流程並將結果用 dictionary 紀錄\n",
    "\"\"\"\n",
    "\n",
    "\n",
    "model = build_mlp(input_shape=x_train.shape[1:])\n",
    "model.summary()\n",
    "optimizer = keras.optimizers.SGD(lr=LEARNING_RATE, nesterov=True, momentum=MOMENTUM)\n",
    "model.compile(loss=\"categorical_crossentropy\", metrics=[\"accuracy\"], optimizer=optimizer)\n",
    "\n",
    "model.fit(x_train, y_train, \n",
    "          epochs=EPOCHS, \n",
    "          batch_size=BATCH_SIZE, \n",
    "          validation_data=(x_test, y_test), \n",
    "          shuffle=True,\n",
    "          callbacks=[model_ckpt]\n",
    "         )\n",
    "\n",
    "# Collect results\n",
    "train_loss = model.history.history[\"loss\"]\n",
    "valid_loss = model.history.history[\"val_loss\"]\n",
    "train_acc = model.history.history[\"acc\"]\n",
    "valid_acc = model.history.history[\"val_acc\"]\n",
    "\n"
   ]
  },
  {
   "cell_type": "code",
   "execution_count": 9,
   "metadata": {
    "scrolled": true
   },
   "outputs": [
    {
     "ename": "NameError",
     "evalue": "name 'loss_loadback' is not defined",
     "output_type": "error",
     "traceback": [
      "\u001b[1;31m---------------------------------------------------------------------------\u001b[0m",
      "\u001b[1;31mNameError\u001b[0m                                 Traceback (most recent call last)",
      "\u001b[1;32m<ipython-input-9-b8e27ad5f65c>\u001b[0m in \u001b[0;36m<module>\u001b[1;34m\u001b[0m\n\u001b[0;32m      6\u001b[0m \u001b[1;33m\u001b[0m\u001b[0m\n\u001b[0;32m      7\u001b[0m \u001b[0mplt\u001b[0m\u001b[1;33m.\u001b[0m\u001b[0mplot\u001b[0m\u001b[1;33m(\u001b[0m\u001b[0mrange\u001b[0m\u001b[1;33m(\u001b[0m\u001b[0mlen\u001b[0m\u001b[1;33m(\u001b[0m\u001b[0mvalid_loss\u001b[0m\u001b[1;33m)\u001b[0m\u001b[1;33m)\u001b[0m\u001b[1;33m,\u001b[0m \u001b[0mvalid_loss\u001b[0m\u001b[1;33m,\u001b[0m \u001b[0mlabel\u001b[0m\u001b[1;33m=\u001b[0m\u001b[1;34m\"valid loss\"\u001b[0m\u001b[1;33m)\u001b[0m\u001b[1;33m\u001b[0m\u001b[1;33m\u001b[0m\u001b[0m\n\u001b[1;32m----> 8\u001b[1;33m \u001b[0mplt\u001b[0m\u001b[1;33m.\u001b[0m\u001b[0mhlines\u001b[0m\u001b[1;33m(\u001b[0m\u001b[0my\u001b[0m\u001b[1;33m=\u001b[0m\u001b[0mloss_loadback\u001b[0m\u001b[1;33m,\u001b[0m \u001b[0mxmin\u001b[0m\u001b[1;33m=\u001b[0m\u001b[1;36m0\u001b[0m\u001b[1;33m,\u001b[0m \u001b[0mxmax\u001b[0m\u001b[1;33m=\u001b[0m\u001b[0mlen\u001b[0m\u001b[1;33m(\u001b[0m\u001b[0mtrain_loss\u001b[0m\u001b[1;33m)\u001b[0m\u001b[1;33m,\u001b[0m \u001b[0mcolors\u001b[0m\u001b[1;33m=\u001b[0m\u001b[1;34m'r'\u001b[0m\u001b[1;33m,\u001b[0m \u001b[0mlinestyles\u001b[0m\u001b[1;33m=\u001b[0m\u001b[1;34m'--'\u001b[0m\u001b[1;33m)\u001b[0m\u001b[1;33m\u001b[0m\u001b[1;33m\u001b[0m\u001b[0m\n\u001b[0m\u001b[0;32m      9\u001b[0m \u001b[0mplt\u001b[0m\u001b[1;33m.\u001b[0m\u001b[0mlegend\u001b[0m\u001b[1;33m(\u001b[0m\u001b[1;33m)\u001b[0m\u001b[1;33m\u001b[0m\u001b[1;33m\u001b[0m\u001b[0m\n\u001b[0;32m     10\u001b[0m \u001b[0mplt\u001b[0m\u001b[1;33m.\u001b[0m\u001b[0mtitle\u001b[0m\u001b[1;33m(\u001b[0m\u001b[1;34m\"Loss\"\u001b[0m\u001b[1;33m)\u001b[0m\u001b[1;33m\u001b[0m\u001b[1;33m\u001b[0m\u001b[0m\n",
      "\u001b[1;31mNameError\u001b[0m: name 'loss_loadback' is not defined"
     ]
    },
    {
     "data": {
      "image/png": "[encoded data removed]",
      "text/plain": [
       "<Figure size 432x288 with 1 Axes>"
      ]
     },
     "metadata": {
      "needs_background": "light"
     },
     "output_type": "display_data"
    }
   ],
   "source": [
    "import matplotlib.pyplot as plt\n",
    "%matplotlib inline\n",
    "\"\"\"Code Here\n",
    "將結果繪出\n",
    "\"\"\"\n",
    "\n",
    "plt.plot(range(len(valid_loss)), valid_loss, label=\"valid loss\")\n",
    "plt.hlines(y=loss_loadback, xmin=0, xmax=len(train_loss), colors='r', linestyles='--')\n",
    "plt.legend()\n",
    "plt.title(\"Loss\")\n",
    "plt.show()\n",
    "\n",
    "plt.plot(range(len(train_acc)), train_acc, label=\"train accuracy\")\n",
    "plt.plot(range(len(valid_acc)), valid_acc, label=\"valid accuracy\")\n",
    "plt.hlines(y=acc_loadback, xmin=0, xmax=len(train_loss), colors='r', linestyles='--')\n",
    "plt.legend()\n",
    "plt.title(\"Accuracy\")\n",
    "plt.show()"
   ]
  },
  {
   "cell_type": "code",
   "execution_count": 10,
   "metadata": {},
   "outputs": [
    {
     "name": "stdout",
     "output_type": "stream",
     "text": [
      "10000/10000 [==============================] - 1s 120us/step\n"
     ]
    }
   ],
   "source": [
    "# Load back\n",
    "model = keras.models.load_model(\"./tmp86.h5\")\n",
    "loss_loadback, acc_loadback = model.evaluate(x_test, y_test)"
   ]
  },
  {
   "cell_type": "code",
   "execution_count": 11,
   "metadata": {},
   "outputs": [
    {
     "data": {
      "image/png": "[encoded data removed]",
      "text/plain": [
       "<Figure size 432x288 with 1 Axes>"
      ]
     },
     "metadata": {
      "needs_background": "light"
     },
     "output_type": "display_data"
    },
    {
     "data": {
      "image/png": "[encoded data removed]",
      "text/plain": [
       "<Figure size 432x288 with 1 Axes>"
      ]
     },
     "metadata": {
      "needs_background": "light"
     },
     "output_type": "display_data"
    }
   ],
   "source": [
    "plt.plot(range(len(valid_loss)), valid_loss, label=\"valid loss\")\n",
    "plt.hlines(y=loss_loadback, xmin=0, xmax=len(train_loss), colors='r', linestyles='--')\n",
    "plt.legend()\n",
    "plt.title(\"Loss\")\n",
    "plt.show()\n",
    "\n",
    "plt.plot(range(len(train_acc)), train_acc, label=\"train accuracy\")\n",
    "plt.plot(range(len(valid_acc)), valid_acc, label=\"valid accuracy\")\n",
    "plt.hlines(y=acc_loadback, xmin=0, xmax=len(train_loss), colors='r', linestyles='--')\n",
    "plt.legend()\n",
    "plt.title(\"Accuracy\")\n",
    "plt.show()"
   ]
  },
  {
   "cell_type": "code",
   "execution_count": null,
   "metadata": {},
   "outputs": [],
   "source": []
  }
 ],
 "metadata": {
  "kernelspec": {
   "display_name": "Python 3",
   "language": "python",
   "name": "python3"
  },
  "language_info": {
   "codemirror_mode": {
    "name": "ipython",
    "version": 3
   },
   "file_extension": ".py",
   "mimetype": "text/x-python",
   "name": "python",
   "nbconvert_exporter": "python",
   "pygments_lexer": "ipython3",
   "version": "3.7.3"
  }
 },
 "nbformat": 4,
 "nbformat_minor": 2
}
